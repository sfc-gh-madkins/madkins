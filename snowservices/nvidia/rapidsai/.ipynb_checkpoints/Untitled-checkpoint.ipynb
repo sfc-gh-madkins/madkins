{
 "cells": [
  {
   "cell_type": "code",
   "execution_count": 34,
   "id": "ee57be16",
   "metadata": {},
   "outputs": [],
   "source": [
    "import numpy as np\n",
    "\n",
    "# Generate some random training data\n",
    "num_users = 1000\n",
    "num_items = 500\n",
    "num_features = 10\n",
    "num_samples = 100000\n",
    "\n",
    "user_ids = np.random.randint(num_users, size=num_samples)\n",
    "item_ids = np.random.randint(num_items, size=num_samples)\n",
    "features = np.random.rand(num_samples, num_features)\n",
    "labels = np.random.rand(num_samples)\n",
    "\n",
    "# Split the data into training and validation sets\n",
    "train_size = int(num_samples * 0.8)\n",
    "train_user_ids = user_ids[:train_size]\n",
    "train_item_ids = item_ids[:train_size]\n",
    "train_features = features[:train_size]\n",
    "train_labels = labels[:train_size].reshape(-1, 1)\n",
    "\n",
    "val_user_ids = user_ids[train_size:]\n",
    "val_item_ids = item_ids[train_size:]\n",
    "val_features = features[train_size:]\n",
    "val_labels = labels[train_size:].reshape(-1, 1)\n"
   ]
  },
  {
   "cell_type": "code",
   "execution_count": 37,
   "id": "e17c0e0c",
   "metadata": {},
   "outputs": [],
   "source": [
    "import torch\n",
    "device = 'cuda' if torch.cuda.is_available() else 'cpu'"
   ]
  },
  {
   "cell_type": "code",
   "execution_count": 40,
   "id": "570e0a67",
   "metadata": {},
   "outputs": [],
   "source": [
    "from pytorch_tabnet.tab_model import TabNetRegressor\n",
    "\n",
    "# Define the model\n",
    "model = TabNetRegressor(\n",
    "    n_d=32, n_a=32, n_steps=4, gamma=1.3,\n",
    "    lambda_sparse=0, optimizer_fn=torch.optim.Adam,\n",
    "    optimizer_params=dict(lr=2e-2, weight_decay=1e-5),\n",
    "    mask_type='entmax', scheduler_params=dict(mode=\"min\", patience=5, min_lr=1e-5, factor=0.9),\n",
    "    scheduler_fn=torch.optim.lr_scheduler.ReduceLROnPlateau,\n",
    "    device_name = device,\n",
    "    verbose=1\n",
    ")"
   ]
  },
  {
   "cell_type": "code",
   "execution_count": 41,
   "id": "d01aa9f6",
   "metadata": {},
   "outputs": [
    {
     "name": "stdout",
     "output_type": "stream",
     "text": [
      "epoch 0  | loss: 0.30363 | val_mse: 0.08418 |  0:00:12s\n",
      "epoch 1  | loss: 0.0876  | val_mse: 0.08372 |  0:00:25s\n",
      "epoch 2  | loss: 0.08632 | val_mse: 0.08333 |  0:00:39s\n",
      "epoch 3  | loss: 0.08498 | val_mse: 0.0841  |  0:00:53s\n",
      "epoch 4  | loss: 0.0846  | val_mse: 0.08345 |  0:01:09s\n",
      "Stop training because you reached max_epochs = 5 with best_epoch = 2 and best_val_mse = 0.08333\n"
     ]
    },
    {
     "name": "stderr",
     "output_type": "stream",
     "text": [
      "/Users/madkins/.pyenv/versions/3.8.13/envs/snowpark/lib/python3.8/site-packages/pytorch_tabnet/callbacks.py:172: UserWarning: Best weights from best epoch are automatically used!\n",
      "  warnings.warn(wrn_msg)\n"
     ]
    }
   ],
   "source": [
    "# Train the model\n",
    "model.fit(\n",
    "    X_train=train_features, y_train=train_labels,\n",
    "    eval_set=[(val_features, val_labels)],\n",
    "    eval_name=['val'],\n",
    "    max_epochs=5,\n",
    "    patience=10,\n",
    "    batch_size=1024,\n",
    "    virtual_batch_size=128,\n",
    "    num_workers=0,\n",
    "    drop_last=False,\n",
    ")\n"
   ]
  },
  {
   "cell_type": "code",
   "execution_count": 42,
   "id": "43fcb97b",
   "metadata": {},
   "outputs": [],
   "source": [
    "# Generate some test data\n",
    "test_user_ids = np.random.randint(num_users, size=100)\n",
    "test_item_ids = np.random.randint(num_items, size=100)\n",
    "test_features = np.random.rand(100, num_features)\n",
    "\n",
    "# Make predictions\n",
    "predictions = model.predict(test_features)\n"
   ]
  },
  {
   "cell_type": "code",
   "execution_count": 44,
   "id": "5bca9392",
   "metadata": {},
   "outputs": [
    {
     "data": {
      "text/plain": [
       "(100, 1)"
      ]
     },
     "execution_count": 44,
     "metadata": {},
     "output_type": "execute_result"
    }
   ],
   "source": [
    "predictions.shape"
   ]
  },
  {
   "cell_type": "code",
   "execution_count": null,
   "id": "137b7e12",
   "metadata": {},
   "outputs": [],
   "source": []
  }
 ],
 "metadata": {
  "kernelspec": {
   "display_name": "Python 3 (ipykernel)",
   "language": "python",
   "name": "python3"
  },
  "language_info": {
   "codemirror_mode": {
    "name": "ipython",
    "version": 3
   },
   "file_extension": ".py",
   "mimetype": "text/x-python",
   "name": "python",
   "nbconvert_exporter": "python",
   "pygments_lexer": "ipython3",
   "version": "3.8.13"
  }
 },
 "nbformat": 4,
 "nbformat_minor": 5
}
