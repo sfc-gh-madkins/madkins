{
 "cells": [
  {
   "cell_type": "code",
   "execution_count": 1,
   "id": "a37256ed-789a-4b7f-8044-519132d25c61",
   "metadata": {
    "tags": []
   },
   "outputs": [],
   "source": [
    "import os\n",
    "\n",
    "from snowflake.snowpark import Session\n",
    "from snowflake.snowpark.functions import udf, sproc, servicesproc\n",
    "from snowflake.snowpark import functions as F\n",
    "from snowflake.snowpark.types import *\n",
    "\n",
    "from datetime import datetime\n",
    "import pandas as pd\n",
    "import numpy as np\n",
    "import xgboost as xgb\n",
    "from sklearn.model_selection import train_test_split"
   ]
  },
  {
   "cell_type": "code",
   "execution_count": 2,
   "id": "a1a69f82",
   "metadata": {},
   "outputs": [],
   "source": [
    "import requests\n",
    "import urllib.parse\n",
    "import os\n",
    "import signal\n",
    "import json\n",
    "import snowflake.connector\n",
    "\n",
    "connection_parameters = {\n",
    "    \"account\": \"servicesnow\",\n",
    "    \"user\": \"madkins\",\n",
    "    \"password\": os.environ['SNOWFLAKE_CI_PASSWORD'],\n",
    "    \"host\": \"servicesnow.temptest002038.us-west-2.aws.snowflakecomputing.com\",\n",
    "    \"database\": \"madkins\",\n",
    "    \"schema\": \"public\"\n",
    "}\n",
    "session1 = Session.builder.configs(connection_parameters).create()\n",
    "\n",
    "session2 = snowflake.connector.connect(\n",
    "         user=session1._conn._lower_case_parameters['user'],\n",
    "         password=session1._conn._lower_case_parameters['password'], # insert password here\n",
    "         account=session1._conn._lower_case_parameters['account'],\n",
    "         host=session1._conn._lower_case_parameters['host'],\n",
    "         session_parameters={\n",
    "             'PYTHON_CONNECTOR_QUERY_RESULT_FORMAT': 'json'\n",
    "         })"
   ]
  },
  {
   "cell_type": "code",
   "execution_count": 3,
   "id": "26d7cca9",
   "metadata": {},
   "outputs": [
    {
     "data": {
      "text/plain": [
       "{'account': 'servicesnow',\n",
       " 'user': 'madkins',\n",
       " 'password': 'July2892!',\n",
       " 'host': 'servicesnow.temptest002038.us-west-2.aws.snowflakecomputing.com',\n",
       " 'database': 'madkins',\n",
       " 'schema': 'public',\n",
       " 'application': 'PythonSnowpark',\n",
       " 'internal_application_name': 'PythonSnowpark',\n",
       " 'internal_application_version': '1.0.0'}"
      ]
     },
     "execution_count": 3,
     "metadata": {},
     "output_type": "execute_result"
    }
   ],
   "source": [
    "session1._conn._lower_case_parameters"
   ]
  },
  {
   "cell_type": "code",
   "execution_count": 5,
   "id": "b27e1ca7",
   "metadata": {},
   "outputs": [
    {
     "name": "stdout",
     "output_type": "stream",
     "text": [
      "{'Authorization': 'Snowflake Token=\"ver:1-hint:6578993-ETMsDgAAAYegaW06ABRBRVMvQ0JDL1BLQ1M1UGFkZGluZwEAABAAEKHL5NXbkUO+iaccsFHgM0kAAACAED2vppjIDquq0o+4vBh31JRIcYqM95EdA3Pjc8MBziUoog+AVj+qoxrj3XHthA5KGpBWtisqjXSHbTO5uBhlaHx+O8+Wd8rBJn3WogWTztUHTh4cL2Ja3OKZOyNO39qy8qwZ0p8+8NPa4h9ia2+qni8qzBzyhLDRibHrRu/l+hwAFKaL4LK0tRba2FkxQC7V7fGZm95A\"'}\n"
     ]
    },
    {
     "data": {
      "text/plain": [
       "'{\"Hello\":\"World\"}'"
      ]
     },
     "execution_count": 5,
     "metadata": {},
     "output_type": "execute_result"
    }
   ],
   "source": [
    "#token1 = session1._conn._conn._rest._token_request('ISSUE')\n",
    "\n",
    "token2 = session2._rest._token_request('ISSUE')\n",
    "token_extract2 = token2['data']['sessionToken']\n",
    "token2 = f'''\\\"{token_extract2}\\\"'''\n",
    "headers2 = {'Authorization': f'Snowflake Token={token2}'}\n",
    "print(headers2)\n",
    "\n",
    "url = 'https://gibzn-tt2038-servicesnow.ingress-03.dev-snowflakecomputing.app/'\n",
    "\n",
    "response = requests.get(url, headers=headers2)\n",
    "response.status_code\n",
    "response.text"
   ]
  },
  {
   "cell_type": "code",
   "execution_count": 22,
   "id": "b6ded937",
   "metadata": {},
   "outputs": [
    {
     "data": {
      "text/plain": [
       "'servicesnow.temptest002038.us-west-2.aws.snowflakecomputing.com'"
      ]
     },
     "execution_count": 22,
     "metadata": {},
     "output_type": "execute_result"
    }
   ],
   "source": []
  },
  {
   "cell_type": "code",
   "execution_count": 5,
   "id": "d5dcac68",
   "metadata": {},
   "outputs": [
    {
     "data": {
      "text/plain": [
       "404"
      ]
     },
     "execution_count": 5,
     "metadata": {},
     "output_type": "execute_result"
    }
   ],
   "source": [
    "response.status_code"
   ]
  },
  {
   "cell_type": "code",
   "execution_count": 6,
   "id": "4ae7894b",
   "metadata": {},
   "outputs": [
    {
     "data": {
      "text/plain": [
       "'Not Found'"
      ]
     },
     "execution_count": 6,
     "metadata": {},
     "output_type": "execute_result"
    }
   ],
   "source": [
    "response.reason"
   ]
  },
  {
   "cell_type": "code",
   "execution_count": null,
   "id": "64e08588",
   "metadata": {},
   "outputs": [],
   "source": []
  },
  {
   "cell_type": "code",
   "execution_count": 8,
   "id": "92d7ac78-4f80-4ec2-9f96-1818422bff69",
   "metadata": {
    "tags": []
   },
   "outputs": [],
   "source": [
    "connection_parameters = {\n",
    "    \"account\": \"VUA92284\",\n",
    "    \"user\": \"snowflake_nvidia\",\n",
    "    \"password\": os.environ['SNOWFLAKE_TEMP_PASSWORD'],\n",
    "    \"role\": \"SNOWFLAKE_NVIDIA\",  # optional\n",
    "    \"warehouse\": \"SNOWFLAKE_NVIDIA\",  # medium snowpark-optimized\n",
    "    \"database\": \"SNOWFLAKE_NVIDIA\",\n",
    "    \"schema\": \"PUBLIC\",\n",
    "}\n",
    "\n",
    "session = Session.builder.configs(connection_parameters).create()"
   ]
  },
  {
   "cell_type": "code",
   "execution_count": 3,
   "id": "1c3f6fd3-ade9-4145-b969-4a34d30ecb22",
   "metadata": {
    "tags": []
   },
   "outputs": [
    {
     "data": {
      "text/plain": [
       "[Row(status='Statement executed successfully.')]"
      ]
     },
     "execution_count": 3,
     "metadata": {},
     "output_type": "execute_result"
    }
   ],
   "source": [
    "session.sql(\"USE WAREHOUSE snowflake_nvidia;\").collect()"
   ]
  },
  {
   "cell_type": "code",
   "execution_count": 4,
   "id": "1ba55df6-fdfc-49ce-807d-ff9606c1206c",
   "metadata": {
    "tags": []
   },
   "outputs": [
    {
     "data": {
      "text/html": [
       "<div>\n",
       "<style scoped>\n",
       "    .dataframe tbody tr th:only-of-type {\n",
       "        vertical-align: middle;\n",
       "    }\n",
       "\n",
       "    .dataframe tbody tr th {\n",
       "        vertical-align: top;\n",
       "    }\n",
       "\n",
       "    .dataframe thead th {\n",
       "        text-align: right;\n",
       "    }\n",
       "</style>\n",
       "<table border=\"1\" class=\"dataframe\">\n",
       "  <thead>\n",
       "    <tr style=\"text-align: right;\">\n",
       "      <th></th>\n",
       "      <th>Air temperature</th>\n",
       "      <th>Process temperature</th>\n",
       "      <th>Rotational speed</th>\n",
       "      <th>Torque</th>\n",
       "      <th>Tool wear</th>\n",
       "      <th>Machine failure</th>\n",
       "    </tr>\n",
       "  </thead>\n",
       "  <tbody>\n",
       "    <tr>\n",
       "      <th>0</th>\n",
       "      <td>301.760789</td>\n",
       "      <td>309.396186</td>\n",
       "      <td>1707.036783</td>\n",
       "      <td>47.934766</td>\n",
       "      <td>34.141201</td>\n",
       "      <td>0</td>\n",
       "    </tr>\n",
       "    <tr>\n",
       "      <th>1</th>\n",
       "      <td>299.870680</td>\n",
       "      <td>308.752652</td>\n",
       "      <td>1416.204916</td>\n",
       "      <td>59.051910</td>\n",
       "      <td>80.001709</td>\n",
       "      <td>0</td>\n",
       "    </tr>\n",
       "    <tr>\n",
       "      <th>2</th>\n",
       "      <td>302.198607</td>\n",
       "      <td>309.827915</td>\n",
       "      <td>1095.139524</td>\n",
       "      <td>45.029482</td>\n",
       "      <td>27.988897</td>\n",
       "      <td>0</td>\n",
       "    </tr>\n",
       "    <tr>\n",
       "      <th>3</th>\n",
       "      <td>299.270016</td>\n",
       "      <td>308.289058</td>\n",
       "      <td>1684.958560</td>\n",
       "      <td>20.224400</td>\n",
       "      <td>18.487766</td>\n",
       "      <td>0</td>\n",
       "    </tr>\n",
       "    <tr>\n",
       "      <th>4</th>\n",
       "      <td>297.489689</td>\n",
       "      <td>312.132123</td>\n",
       "      <td>1297.227154</td>\n",
       "      <td>33.933779</td>\n",
       "      <td>207.472142</td>\n",
       "      <td>0</td>\n",
       "    </tr>\n",
       "  </tbody>\n",
       "</table>\n",
       "</div>"
      ],
      "text/plain": [
       "   Air temperature  Process temperature  Rotational speed     Torque  \\\n",
       "0       301.760789           309.396186       1707.036783  47.934766   \n",
       "1       299.870680           308.752652       1416.204916  59.051910   \n",
       "2       302.198607           309.827915       1095.139524  45.029482   \n",
       "3       299.270016           308.289058       1684.958560  20.224400   \n",
       "4       297.489689           312.132123       1297.227154  33.933779   \n",
       "\n",
       "    Tool wear  Machine failure  \n",
       "0   34.141201                0  \n",
       "1   80.001709                0  \n",
       "2   27.988897                0  \n",
       "3   18.487766                0  \n",
       "4  207.472142                0  "
      ]
     },
     "execution_count": 4,
     "metadata": {},
     "output_type": "execute_result"
    }
   ],
   "source": [
    "snow_df = session.sql(\"SELECT * from SENSOR_DATA_MACHINE_FAILURE_100M\")\n",
    "snow_df.limit(5).to_pandas()"
   ]
  },
  {
   "cell_type": "markdown",
   "id": "1021a6d6-8282-43d0-9b8d-292da567b477",
   "metadata": {},
   "source": [
    "# Train CPU Model"
   ]
  },
  {
   "cell_type": "code",
   "execution_count": 5,
   "id": "5167a772-a331-47ca-9bf6-048baaa4d8f7",
   "metadata": {
    "tags": []
   },
   "outputs": [],
   "source": [
    "rows = 10_000_000"
   ]
  },
  {
   "cell_type": "code",
   "execution_count": 6,
   "id": "2be7308c-8585-4395-8c9a-e6d26f8a8102",
   "metadata": {
    "tags": []
   },
   "outputs": [
    {
     "name": "stderr",
     "output_type": "stream",
     "text": [
      "The version of package scikit-learn in the local environment is 1.2.1, which does not fit the criteria for the requirement scikit-learn. Your UDF might not work when the package version is different between the server and your local environment\n",
      "The version of package xgboost in the local environment is 1.7.4, which does not fit the criteria for the requirement xgboost. Your UDF might not work when the package version is different between the server and your local environment\n"
     ]
    }
   ],
   "source": [
    "@sproc(packages=['snowflake-snowpark-python','scikit-learn', 'xgboost'])\n",
    "def train_cpu(session: Session) -> str: \n",
    "    \n",
    "    features = [\n",
    "    'Air temperature',\n",
    "    'Process temperature',\n",
    "    'Rotational speed',\n",
    "    'Torque',\n",
    "    'Tool wear',\n",
    "    ]\n",
    "    \n",
    "    df = session.sql(\"SELECT * from SENSOR_DATA_MACHINE_FAILURE_100M\").limit(rows).to_pandas()\n",
    "    \n",
    "    target = [\"Machine failure\"]\n",
    "\n",
    "    X_train = df[features]\n",
    "    y_train = df[target]\n",
    "    \n",
    "    clf = xgb.XGBClassifier()\n",
    "\n",
    "    start = datetime.now()\n",
    "    clf.fit(X_train, y_train)\n",
    "    end = datetime.now()\n",
    "\n",
    "    return 'XGBoost CPU Train Time: '+str(end-start)+'s'"
   ]
  },
  {
   "cell_type": "code",
   "execution_count": 7,
   "id": "4730bae3",
   "metadata": {},
   "outputs": [
    {
     "data": {
      "text/plain": [
       "'XGBoost CPU Train Time: 0:01:35.557476s'"
      ]
     },
     "execution_count": 7,
     "metadata": {},
     "output_type": "execute_result"
    }
   ],
   "source": [
    "train_cpu()"
   ]
  },
  {
   "cell_type": "markdown",
   "id": "d7dacabe-9cef-4e3d-882f-98090b5c4471",
   "metadata": {},
   "source": [
    "# Train GPU Model"
   ]
  },
  {
   "cell_type": "code",
   "execution_count": 6,
   "id": "57db72bf-1f29-429e-93b5-62869fac1843",
   "metadata": {
    "tags": []
   },
   "outputs": [],
   "source": [
    "@servicesproc(snowservice='NVIDIA', packages=['snowflake-snowpark-python','scikit-learn', 'xgboost'])\n",
    "def train_gpu(session: Session) -> dict:\n",
    "    from snowflake.ml.registry import model_registry\n",
    "    \n",
    "    \n",
    "    features = [\n",
    "    'Air temperature',\n",
    "    'Process temperature',\n",
    "    'Rotational speed',\n",
    "    'Torque',\n",
    "    'Tool wear',\n",
    "    ]\n",
    "    \n",
    "    df = session.sql(\"SELECT * from SENSOR_DATA_MACHINE_FAILURE_100M\").limit(rows).to_pandas()\n",
    "    cudf.from_pandas(df)\n",
    "    \n",
    "    target = [\"Machine failure\"]\n",
    "\n",
    "    X_train = df[features]\n",
    "    y_train = df[target]\n",
    "\n",
    "    clf = xgb.XGBClassifier(tree_method='gpu_hist')\n",
    "\n",
    "    start = datetime.now()\n",
    "    clf.fit(X_train, y_train)\n",
    "    end = datetime.now()\n",
    "    \n",
    "\n",
    "    registry = model_registry.ModelRegistry(session=session)\n",
    "    model_id = registry.log_model(model=clf, name=\"xg_boost\", tags={\n",
    "    \"stage\": \"testing\", \"classifier_type\": \"XBGClassifier\"})\n",
    "\n",
    "    return {\n",
    "        'model_id': model_id,\n",
    "        'train_time': str(end-start)+'s'\n",
    "    }"
   ]
  },
  {
   "cell_type": "code",
   "execution_count": 7,
   "id": "2175adad",
   "metadata": {},
   "outputs": [
    {
     "name": "stdout",
     "output_type": "stream",
     "text": [
      "<!DOCTYPE HTML>\n",
      "<html>\n",
      "<head>\n",
      "    <meta http-equiv=\"X-UA-Compatible\" content=\"IE=edge\">\n",
      "    <meta charset=\"UTF-8\">\n",
      "    <meta name=\"viewport\"\n",
      "          content=\"width=device-width, initial-scale=1, maximum-scale=1, user-scalable=no\">\n",
      "\n",
      "    <!-- set the base path for all urls -->\n",
      "    <base href=\"../../../assets/ui/Login/\" />\n",
      "    \n",
      "    <link rel=\"icon\" href=\"../../../favicon.ico\" />\n",
      "    \n",
      "    <!-- The line below must be kept intact for Sencha Cmd to build your application -->\n",
      "    <script  id=\"microloader\" data-app=\"a2154f47-8466-46a8-9e13-14fe535c3076\" src=\"microloader.js\"></script>\n",
      "    <style>\n",
      "        body {\n",
      "            background: #FAFAFA;\n",
      "        }\n",
      "        @keyframes growShrink {\n",
      "            0% {\n",
      "                transform: scale(0.6);\n",
      "            }\n",
      "            50% {\n",
      "                transform: scale(0.9);\n",
      "            }\n",
      "            100% {\n",
      "                transform: scale(0.6);\n",
      "            }\n",
      "        }\n",
      "    </style>\n",
      "</head>\n",
      "<body data-bind=\"{&quot;LOCALE&quot;:&quot;en&quot;,&quot;APP_PREFIX_LOGIN&quot;:&quot;oauth&quot;,&quot;APP_PREFIX_HOME&quot;:&quot;console&quot;,&quot;ACCOUNT_NAME&quot;:&quot;SERVICESNOW&quot;,&quot;AUTH_METHODS&quot;:&quot;[\\&quot;USERNAME_PASSWORD\\&quot;]&quot;,&quot;FED_LABEL&quot;:&quot;&quot;,&quot;ENABLE_FORGOTTEN_PASSWORD&quot;:false,&quot;OAUTH_INTEGRATION_NAME&quot;:&quot;SnowServices&quot;,&quot;OAUTH_SNOWFLAKE_INTEGRATION&quot;:true,&quot;OAUTH_CLIENT_TYPE&quot;:&quot;CONFIDENTIAL&quot;,&quot;PROVIDED_LOCALES&quot;:[&quot;ja&quot;,&quot;en&quot;],&quot;LOCALIZE_UI&quot;:false,&quot;UI_ENABLE_BUGFIX_279239_REGIONLESS_SSO_REDIRECT&quot;:true,&quot;UI_ENABLE_NEW_LOGIN_UI&quot;:true,&quot;UI_LANDING_PAGE&quot;:&quot;CLASSIC_CONSOLE&quot;,&quot;UI_LANDING_PAGE_OVERRIDE&quot;:&quot;NONE&quot;,&quot;ORG_NAME&quot;:&quot;TT2038&quot;,&quot;REGION&quot;:&quot;us-west-2&quot;,&quot;DEPLOYMENT_LOCATION&quot;:&quot;PUBLIC.PREPROD&quot;,&quot;AVAILABLE_REGIONS&quot;:{&quot;PUBLIC.PREPROD&quot;:{&quot;snowflakeRegion&quot;:&quot;PREPROD&quot;,&quot;regionGroup&quot;:&quot;PUBLIC&quot;,&quot;cloud&quot;:&quot;aws&quot;,&quot;cloudRegion&quot;:&quot;us-west-2&quot;,&quot;cloudRegionName&quot;:&quot;US West (Oregon)&quot;}},&quot;UI_ENABLE_NEW_UI_DIRECT_LOGIN&quot;:true,&quot;ENABLE_S8_IDP_INITIATED_SSO&quot;:true,&quot;UI_ENABLE_LOGIN_PAGE_SUMMIT_BUTTON&quot;:false,&quot;ENABLE_FIX_556463&quot;:true,&quot;LOGIN_TIMEOUT_ERROR_MESSAGE&quot;:&quot;It looks like we are having technical difficulty in logging you into our system. Please try again or please create a case with Snowflake Support or reach us on our support line: \\n USA: +1 855 877 7505 \\n Netherlands: +31 20 899 0033 \\n Germany: +49 30 7675 8326 \\n UK: +44 1207 710140 \\n France: +33 18 652 9998 \\n Australia +61 38 594 0550 \\n Japan +81 006633814554&quot;,&quot;UI_ENABLE_S8_CLASSIC_CONSOLE_ACCESS&quot;:true}\">\n",
      "    <div id=\"__snowflakeAppLoadingImg\" style=\"position: absolute; left: calc(50% - 50px); top: calc(50% - 50px); width: 100px; height: 100px;\">\n",
      "        <svg width=\"100\" height=\"100\" style=\"position: absolute; top: 0px; left: 0px; animation: 2000ms cubic-bezier(0.745, -0.51, 0.065, 1.34) 0s infinite normal none running growShrink;\">\n",
      "            <circle cx=\"50\" cy=\"50\" r=\"33.333333333333336\" fill=\"none\" stroke=\"rgb(255,104,159)\" stroke-width=\"1\"></circle>\n",
      "        </svg>\n",
      "        <svg width=\"100\" height=\"100\" style=\"position: absolute; top: 0px; left: 0px; animation: 2000ms cubic-bezier(0.780714, -0.481429, 0.100714, 1.36857) 0s infinite normal none running growShrink;\">\n",
      "            <circle cx=\"50\" cy=\"50\" r=\"33.333333333333336\" fill=\"none\" stroke=\"rgb(247,99,174)\" stroke-width=\"1.5714285714285714\"></circle>\n",
      "        </svg>\n",
      "        <svg width=\"100\" height=\"100\" style=\"position: absolute; top: 0px; left: 0px; animation: 2000ms cubic-bezier(0.816429, -0.452857, 0.136429, 1.39714) 0s infinite normal none running growShrink;\">\n",
      "            <circle cx=\"50\" cy=\"50\" r=\"33.333333333333336\" fill=\"none\" stroke=\"rgb(234,97,190)\" stroke-width=\"2.142857142857143\"></circle>\n",
      "        </svg>\n",
      "        <svg width=\"100\" height=\"100\" style=\"position: absolute; top: 0px; left: 0px; animation: 2000ms cubic-bezier(0.852143, -0.424286, 0.172143, 1.42571) 0s infinite normal none running growShrink;\">\n",
      "            <circle cx=\"50\" cy=\"50\" r=\"33.333333333333336\" fill=\"none\" stroke=\"rgb(217,98,205)\" stroke-width=\"2.7142857142857144\"></circle>\n",
      "        </svg>\n",
      "        <svg width=\"100\" height=\"100\" style=\"position: absolute; top: 0px; left: 0px; animation: 2000ms cubic-bezier(0.887857, -0.395714, 0.207857, 1.45429) 0s infinite normal none running growShrink;\">\n",
      "            <circle cx=\"50\" cy=\"50\" r=\"33.333333333333336\" fill=\"none\" stroke=\"rgb(195,102,220)\" stroke-width=\"3.2857142857142856\"></circle>\n",
      "        </svg>\n",
      "        <svg width=\"100\" height=\"100\" style=\"position: absolute; top: 0px; left: 0px; animation: 2000ms cubic-bezier(0.923571, -0.367143, 0.243571, 1.48286) 0s infinite normal none running growShrink;\">\n",
      "            <circle cx=\"50\" cy=\"50\" r=\"33.333333333333336\" fill=\"none\" stroke=\"rgb(166,107,234)\" stroke-width=\"3.857142857142857\"></circle>\n",
      "        </svg>\n",
      "        <svg width=\"100\" height=\"100\" style=\"position: absolute; top: 0px; left: 0px; animation: 2000ms cubic-bezier(0.959286, -0.338571, 0.279286, 1.51143) 0s infinite normal none running growShrink;\">\n",
      "            <circle cx=\"50\" cy=\"50\" r=\"33.333333333333336\" fill=\"none\" stroke=\"rgb(127,113,246)\" stroke-width=\"4.428571428571429\"></circle>\n",
      "        </svg>\n",
      "        <svg width=\"100\" height=\"100\" style=\"position: absolute; top: 0px; left: 0px; animation: 2000ms cubic-bezier(0.995, -0.31, 0.315, 1.54) 0s infinite normal none running growShrink;\">\n",
      "            <circle cx=\"50\" cy=\"50\" r=\"33.333333333333336\" fill=\"none\" stroke=\"rgb(63,119,255)\" stroke-width=\"5\"></circle>\n",
      "        </svg>\n",
      "    </div>\n",
      "</body>\n",
      "\n",
      "\n",
      "\n"
     ]
    },
    {
     "ename": "JSONDecodeError",
     "evalue": "Expecting value: line 1 column 1 (char 0)",
     "output_type": "error",
     "traceback": [
      "\u001b[0;31m---------------------------------------------------------------------------\u001b[0m",
      "\u001b[0;31mJSONDecodeError\u001b[0m                           Traceback (most recent call last)",
      "File \u001b[0;32m~/.pyenv/versions/3.8.16/envs/snowpark/lib/python3.8/site-packages/requests/models.py:971\u001b[0m, in \u001b[0;36mResponse.json\u001b[0;34m(self, **kwargs)\u001b[0m\n\u001b[1;32m    970\u001b[0m \u001b[38;5;28;01mtry\u001b[39;00m:\n\u001b[0;32m--> 971\u001b[0m     \u001b[38;5;28;01mreturn\u001b[39;00m \u001b[43mcomplexjson\u001b[49m\u001b[38;5;241;43m.\u001b[39;49m\u001b[43mloads\u001b[49m\u001b[43m(\u001b[49m\u001b[38;5;28;43mself\u001b[39;49m\u001b[38;5;241;43m.\u001b[39;49m\u001b[43mtext\u001b[49m\u001b[43m,\u001b[49m\u001b[43m \u001b[49m\u001b[38;5;241;43m*\u001b[39;49m\u001b[38;5;241;43m*\u001b[39;49m\u001b[43mkwargs\u001b[49m\u001b[43m)\u001b[49m\n\u001b[1;32m    972\u001b[0m \u001b[38;5;28;01mexcept\u001b[39;00m JSONDecodeError \u001b[38;5;28;01mas\u001b[39;00m e:\n\u001b[1;32m    973\u001b[0m     \u001b[38;5;66;03m# Catch JSON-related errors and raise as requests.JSONDecodeError\u001b[39;00m\n\u001b[1;32m    974\u001b[0m     \u001b[38;5;66;03m# This aliases json.JSONDecodeError and simplejson.JSONDecodeError\u001b[39;00m\n",
      "File \u001b[0;32m~/.pyenv/versions/3.8.16/lib/python3.8/json/__init__.py:357\u001b[0m, in \u001b[0;36mloads\u001b[0;34m(s, cls, object_hook, parse_float, parse_int, parse_constant, object_pairs_hook, **kw)\u001b[0m\n\u001b[1;32m    354\u001b[0m \u001b[38;5;28;01mif\u001b[39;00m (\u001b[38;5;28mcls\u001b[39m \u001b[38;5;129;01mis\u001b[39;00m \u001b[38;5;28;01mNone\u001b[39;00m \u001b[38;5;129;01mand\u001b[39;00m object_hook \u001b[38;5;129;01mis\u001b[39;00m \u001b[38;5;28;01mNone\u001b[39;00m \u001b[38;5;129;01mand\u001b[39;00m\n\u001b[1;32m    355\u001b[0m         parse_int \u001b[38;5;129;01mis\u001b[39;00m \u001b[38;5;28;01mNone\u001b[39;00m \u001b[38;5;129;01mand\u001b[39;00m parse_float \u001b[38;5;129;01mis\u001b[39;00m \u001b[38;5;28;01mNone\u001b[39;00m \u001b[38;5;129;01mand\u001b[39;00m\n\u001b[1;32m    356\u001b[0m         parse_constant \u001b[38;5;129;01mis\u001b[39;00m \u001b[38;5;28;01mNone\u001b[39;00m \u001b[38;5;129;01mand\u001b[39;00m object_pairs_hook \u001b[38;5;129;01mis\u001b[39;00m \u001b[38;5;28;01mNone\u001b[39;00m \u001b[38;5;129;01mand\u001b[39;00m \u001b[38;5;129;01mnot\u001b[39;00m kw):\n\u001b[0;32m--> 357\u001b[0m     \u001b[38;5;28;01mreturn\u001b[39;00m \u001b[43m_default_decoder\u001b[49m\u001b[38;5;241;43m.\u001b[39;49m\u001b[43mdecode\u001b[49m\u001b[43m(\u001b[49m\u001b[43ms\u001b[49m\u001b[43m)\u001b[49m\n\u001b[1;32m    358\u001b[0m \u001b[38;5;28;01mif\u001b[39;00m \u001b[38;5;28mcls\u001b[39m \u001b[38;5;129;01mis\u001b[39;00m \u001b[38;5;28;01mNone\u001b[39;00m:\n",
      "File \u001b[0;32m~/.pyenv/versions/3.8.16/lib/python3.8/json/decoder.py:337\u001b[0m, in \u001b[0;36mJSONDecoder.decode\u001b[0;34m(self, s, _w)\u001b[0m\n\u001b[1;32m    333\u001b[0m \u001b[38;5;250m\u001b[39m\u001b[38;5;124;03m\"\"\"Return the Python representation of ``s`` (a ``str`` instance\u001b[39;00m\n\u001b[1;32m    334\u001b[0m \u001b[38;5;124;03mcontaining a JSON document).\u001b[39;00m\n\u001b[1;32m    335\u001b[0m \n\u001b[1;32m    336\u001b[0m \u001b[38;5;124;03m\"\"\"\u001b[39;00m\n\u001b[0;32m--> 337\u001b[0m obj, end \u001b[38;5;241m=\u001b[39m \u001b[38;5;28;43mself\u001b[39;49m\u001b[38;5;241;43m.\u001b[39;49m\u001b[43mraw_decode\u001b[49m\u001b[43m(\u001b[49m\u001b[43ms\u001b[49m\u001b[43m,\u001b[49m\u001b[43m \u001b[49m\u001b[43midx\u001b[49m\u001b[38;5;241;43m=\u001b[39;49m\u001b[43m_w\u001b[49m\u001b[43m(\u001b[49m\u001b[43ms\u001b[49m\u001b[43m,\u001b[49m\u001b[43m \u001b[49m\u001b[38;5;241;43m0\u001b[39;49m\u001b[43m)\u001b[49m\u001b[38;5;241;43m.\u001b[39;49m\u001b[43mend\u001b[49m\u001b[43m(\u001b[49m\u001b[43m)\u001b[49m\u001b[43m)\u001b[49m\n\u001b[1;32m    338\u001b[0m end \u001b[38;5;241m=\u001b[39m _w(s, end)\u001b[38;5;241m.\u001b[39mend()\n",
      "File \u001b[0;32m~/.pyenv/versions/3.8.16/lib/python3.8/json/decoder.py:355\u001b[0m, in \u001b[0;36mJSONDecoder.raw_decode\u001b[0;34m(self, s, idx)\u001b[0m\n\u001b[1;32m    354\u001b[0m \u001b[38;5;28;01mexcept\u001b[39;00m \u001b[38;5;167;01mStopIteration\u001b[39;00m \u001b[38;5;28;01mas\u001b[39;00m err:\n\u001b[0;32m--> 355\u001b[0m     \u001b[38;5;28;01mraise\u001b[39;00m JSONDecodeError(\u001b[38;5;124m\"\u001b[39m\u001b[38;5;124mExpecting value\u001b[39m\u001b[38;5;124m\"\u001b[39m, s, err\u001b[38;5;241m.\u001b[39mvalue) \u001b[38;5;28;01mfrom\u001b[39;00m \u001b[38;5;28mNone\u001b[39m\n\u001b[1;32m    356\u001b[0m \u001b[38;5;28;01mreturn\u001b[39;00m obj, end\n",
      "\u001b[0;31mJSONDecodeError\u001b[0m: Expecting value: line 1 column 1 (char 0)",
      "\nDuring handling of the above exception, another exception occurred:\n",
      "\u001b[0;31mJSONDecodeError\u001b[0m                           Traceback (most recent call last)",
      "Cell \u001b[0;32mIn[7], line 1\u001b[0m\n\u001b[0;32m----> 1\u001b[0m \u001b[43mtrain_gpu\u001b[49m\u001b[43m(\u001b[49m\u001b[43m)\u001b[49m\n",
      "File \u001b[0;32m~/Documents/snowpark-python/src/snowflake/snowpark/services_procedure.py:57\u001b[0m, in \u001b[0;36mServicesProcedure.__call__\u001b[0;34m(self, session, *args)\u001b[0m\n\u001b[1;32m     55\u001b[0m response \u001b[38;5;241m=\u001b[39m requests\u001b[38;5;241m.\u001b[39mpost(url, json\u001b[38;5;241m=\u001b[39mpayload)\n\u001b[1;32m     56\u001b[0m \u001b[38;5;28mprint\u001b[39m(response\u001b[38;5;241m.\u001b[39mtext)\n\u001b[0;32m---> 57\u001b[0m \u001b[38;5;28;01mreturn\u001b[39;00m \u001b[43mresponse\u001b[49m\u001b[38;5;241;43m.\u001b[39;49m\u001b[43mjson\u001b[49m\u001b[43m(\u001b[49m\u001b[43m)\u001b[49m\n",
      "File \u001b[0;32m~/.pyenv/versions/3.8.16/envs/snowpark/lib/python3.8/site-packages/requests/models.py:975\u001b[0m, in \u001b[0;36mResponse.json\u001b[0;34m(self, **kwargs)\u001b[0m\n\u001b[1;32m    971\u001b[0m     \u001b[38;5;28;01mreturn\u001b[39;00m complexjson\u001b[38;5;241m.\u001b[39mloads(\u001b[38;5;28mself\u001b[39m\u001b[38;5;241m.\u001b[39mtext, \u001b[38;5;241m*\u001b[39m\u001b[38;5;241m*\u001b[39mkwargs)\n\u001b[1;32m    972\u001b[0m \u001b[38;5;28;01mexcept\u001b[39;00m JSONDecodeError \u001b[38;5;28;01mas\u001b[39;00m e:\n\u001b[1;32m    973\u001b[0m     \u001b[38;5;66;03m# Catch JSON-related errors and raise as requests.JSONDecodeError\u001b[39;00m\n\u001b[1;32m    974\u001b[0m     \u001b[38;5;66;03m# This aliases json.JSONDecodeError and simplejson.JSONDecodeError\u001b[39;00m\n\u001b[0;32m--> 975\u001b[0m     \u001b[38;5;28;01mraise\u001b[39;00m RequestsJSONDecodeError(e\u001b[38;5;241m.\u001b[39mmsg, e\u001b[38;5;241m.\u001b[39mdoc, e\u001b[38;5;241m.\u001b[39mpos)\n",
      "\u001b[0;31mJSONDecodeError\u001b[0m: Expecting value: line 1 column 1 (char 0)"
     ]
    }
   ],
   "source": [
    "train_gpu()"
   ]
  },
  {
   "cell_type": "code",
   "execution_count": 10,
   "id": "dceaa7b0",
   "metadata": {},
   "outputs": [
    {
     "name": "stdout",
     "output_type": "stream",
     "text": [
      "[23:33:03] WARNING: /Users/runner/work/xgboost/xgboost/python-package/build/temp.macosx-11.0-arm64-cpython-38/xgboost/src/learner.cc:553: \n",
      "  If you are loading a serialized model (like pickle in Python, RDS in R) generated by\n",
      "  older XGBoost, please export the model by calling `Booster.save_model` from that version\n",
      "  first, then load it back in current version. See:\n",
      "\n",
      "    https://xgboost.readthedocs.io/en/latest/tutorials/saving_model.html\n",
      "\n",
      "  for more details about differences between saving model and serializing.\n",
      "\n"
     ]
    }
   ],
   "source": [
    "from snowflake.ml.registry import model_registry\n",
    "\n",
    "registry = model_registry.ModelRegistry(session=session)\n",
    "clf = registry.load_model(id='5155f22ec3a311edb92ccad5e1f77919')"
   ]
  },
  {
   "cell_type": "markdown",
   "id": "e2f8601e-b6c9-4e2d-9667-385ea5537201",
   "metadata": {},
   "source": [
    "# Inference"
   ]
  },
  {
   "cell_type": "markdown",
   "id": "d20c844d-c182-492c-a0a7-1876df83bb71",
   "metadata": {},
   "source": [
    "## UDF"
   ]
  },
  {
   "cell_type": "code",
   "execution_count": 19,
   "id": "f34eb83e-eb1f-45d9-89e8-c9d025f1162a",
   "metadata": {
    "tags": []
   },
   "outputs": [
    {
     "name": "stderr",
     "output_type": "stream",
     "text": [
      "The version of package pandas in the local environment is 1.5.3, which does not fit the criteria for the requirement pandas. Your UDF might not work when the package version is different between the server and your local environment\n",
      "The version of package scikit-learn in the local environment is 1.2.1, which does not fit the criteria for the requirement scikit-learn. Your UDF might not work when the package version is different between the server and your local environment\n",
      "The version of package xgboost in the local environment is 1.7.4, which does not fit the criteria for the requirement xgboost. Your UDF might not work when the package version is different between the server and your local environment\n"
     ]
    }
   ],
   "source": [
    "@udf(packages=['pandas', 'scikit-learn', 'xgboost'])\n",
    "def predict(df: PandasDataFrame[float, float, float, float, float]) -> PandasSeries[int]:\n",
    "    features = [\n",
    "        'Air temperature',\n",
    "        'Process temperature',\n",
    "        'Rotational speed',\n",
    "        'Torque',\n",
    "        'Tool wear',\n",
    "    ]\n",
    "    \n",
    "    df.columns = features\n",
    "    return clf.predict(df)"
   ]
  },
  {
   "cell_type": "code",
   "execution_count": 22,
   "id": "92a80c16",
   "metadata": {},
   "outputs": [
    {
     "data": {
      "text/plain": [
       "[Row(status='Statement executed successfully.')]"
      ]
     },
     "execution_count": 22,
     "metadata": {},
     "output_type": "execute_result"
    }
   ],
   "source": [
    "#change warehouse\n",
    "session.sql(\"USE WAREHOUSE snowflake_regular;\").collect()\n",
    "session.sql(\"ALTER WAREHOUSE snowflake_regular SET WAREHOUSE_SIZE='MEDIUM';\").collect()"
   ]
  },
  {
   "cell_type": "code",
   "execution_count": 26,
   "id": "ca4e67eb-8737-4985-bbd2-f7f89193b2f9",
   "metadata": {
    "tags": []
   },
   "outputs": [
    {
     "name": "stdout",
     "output_type": "stream",
     "text": [
      "CPU times: user 11.9 s, sys: 2.38 s, total: 14.3 s\n",
      "Wall time: 35.2 s\n"
     ]
    },
    {
     "data": {
      "text/html": [
       "<div>\n",
       "<style scoped>\n",
       "    .dataframe tbody tr th:only-of-type {\n",
       "        vertical-align: middle;\n",
       "    }\n",
       "\n",
       "    .dataframe tbody tr th {\n",
       "        vertical-align: top;\n",
       "    }\n",
       "\n",
       "    .dataframe thead th {\n",
       "        text-align: right;\n",
       "    }\n",
       "</style>\n",
       "<table border=\"1\" class=\"dataframe\">\n",
       "  <thead>\n",
       "    <tr style=\"text-align: right;\">\n",
       "      <th></th>\n",
       "      <th>Air temperature</th>\n",
       "      <th>Process temperature</th>\n",
       "      <th>Rotational speed</th>\n",
       "      <th>Torque</th>\n",
       "      <th>Tool wear</th>\n",
       "      <th>PREDICTION</th>\n",
       "    </tr>\n",
       "  </thead>\n",
       "  <tbody>\n",
       "    <tr>\n",
       "      <th>0</th>\n",
       "      <td>298.865730</td>\n",
       "      <td>311.399959</td>\n",
       "      <td>1438.964513</td>\n",
       "      <td>27.473915</td>\n",
       "      <td>119.649302</td>\n",
       "      <td>0</td>\n",
       "    </tr>\n",
       "    <tr>\n",
       "      <th>1</th>\n",
       "      <td>303.338527</td>\n",
       "      <td>307.604207</td>\n",
       "      <td>1650.098003</td>\n",
       "      <td>40.674795</td>\n",
       "      <td>77.180278</td>\n",
       "      <td>0</td>\n",
       "    </tr>\n",
       "    <tr>\n",
       "      <th>2</th>\n",
       "      <td>298.615246</td>\n",
       "      <td>309.087900</td>\n",
       "      <td>1406.471948</td>\n",
       "      <td>47.189996</td>\n",
       "      <td>17.463701</td>\n",
       "      <td>0</td>\n",
       "    </tr>\n",
       "    <tr>\n",
       "      <th>3</th>\n",
       "      <td>296.463439</td>\n",
       "      <td>309.020670</td>\n",
       "      <td>1632.462393</td>\n",
       "      <td>46.219119</td>\n",
       "      <td>100.041041</td>\n",
       "      <td>0</td>\n",
       "    </tr>\n",
       "    <tr>\n",
       "      <th>4</th>\n",
       "      <td>304.153169</td>\n",
       "      <td>308.608864</td>\n",
       "      <td>1320.134581</td>\n",
       "      <td>49.484134</td>\n",
       "      <td>204.868320</td>\n",
       "      <td>0</td>\n",
       "    </tr>\n",
       "    <tr>\n",
       "      <th>...</th>\n",
       "      <td>...</td>\n",
       "      <td>...</td>\n",
       "      <td>...</td>\n",
       "      <td>...</td>\n",
       "      <td>...</td>\n",
       "      <td>...</td>\n",
       "    </tr>\n",
       "    <tr>\n",
       "      <th>9999995</th>\n",
       "      <td>302.224949</td>\n",
       "      <td>308.456370</td>\n",
       "      <td>1636.146116</td>\n",
       "      <td>19.836256</td>\n",
       "      <td>48.578381</td>\n",
       "      <td>0</td>\n",
       "    </tr>\n",
       "    <tr>\n",
       "      <th>9999996</th>\n",
       "      <td>299.948592</td>\n",
       "      <td>311.111997</td>\n",
       "      <td>1385.207778</td>\n",
       "      <td>36.698089</td>\n",
       "      <td>104.420139</td>\n",
       "      <td>0</td>\n",
       "    </tr>\n",
       "    <tr>\n",
       "      <th>9999997</th>\n",
       "      <td>300.465219</td>\n",
       "      <td>311.205485</td>\n",
       "      <td>1602.959453</td>\n",
       "      <td>30.192672</td>\n",
       "      <td>170.900726</td>\n",
       "      <td>0</td>\n",
       "    </tr>\n",
       "    <tr>\n",
       "      <th>9999998</th>\n",
       "      <td>303.975146</td>\n",
       "      <td>310.323803</td>\n",
       "      <td>1618.984619</td>\n",
       "      <td>47.229033</td>\n",
       "      <td>133.737225</td>\n",
       "      <td>0</td>\n",
       "    </tr>\n",
       "    <tr>\n",
       "      <th>9999999</th>\n",
       "      <td>296.042237</td>\n",
       "      <td>306.148432</td>\n",
       "      <td>1409.408790</td>\n",
       "      <td>48.909319</td>\n",
       "      <td>197.347785</td>\n",
       "      <td>0</td>\n",
       "    </tr>\n",
       "  </tbody>\n",
       "</table>\n",
       "<p>10000000 rows × 6 columns</p>\n",
       "</div>"
      ],
      "text/plain": [
       "         Air temperature  Process temperature  Rotational speed     Torque  \\\n",
       "0             298.865730           311.399959       1438.964513  27.473915   \n",
       "1             303.338527           307.604207       1650.098003  40.674795   \n",
       "2             298.615246           309.087900       1406.471948  47.189996   \n",
       "3             296.463439           309.020670       1632.462393  46.219119   \n",
       "4             304.153169           308.608864       1320.134581  49.484134   \n",
       "...                  ...                  ...               ...        ...   \n",
       "9999995       302.224949           308.456370       1636.146116  19.836256   \n",
       "9999996       299.948592           311.111997       1385.207778  36.698089   \n",
       "9999997       300.465219           311.205485       1602.959453  30.192672   \n",
       "9999998       303.975146           310.323803       1618.984619  47.229033   \n",
       "9999999       296.042237           306.148432       1409.408790  48.909319   \n",
       "\n",
       "          Tool wear  PREDICTION  \n",
       "0        119.649302           0  \n",
       "1         77.180278           0  \n",
       "2         17.463701           0  \n",
       "3        100.041041           0  \n",
       "4        204.868320           0  \n",
       "...             ...         ...  \n",
       "9999995   48.578381           0  \n",
       "9999996  104.420139           0  \n",
       "9999997  170.900726           0  \n",
       "9999998  133.737225           0  \n",
       "9999999  197.347785           0  \n",
       "\n",
       "[10000000 rows x 6 columns]"
      ]
     },
     "execution_count": 26,
     "metadata": {},
     "output_type": "execute_result"
    }
   ],
   "source": [
    "%%time\n",
    "\n",
    "predictions = snow_df.limit(rows).select(\n",
    "    F.col('\"Air temperature\"'),\n",
    "    F.col('\"Process temperature\"'),\n",
    "    F.col('\"Rotational speed\"'),\n",
    "    F.col('\"Torque\"'),\n",
    "    F.col('\"Tool wear\"'),\n",
    "    predict(\n",
    "        F.col('\"Air temperature\"'),\n",
    "        F.col('\"Process temperature\"'),\n",
    "        F.col('\"Rotational speed\"'),\n",
    "        F.col('\"Torque\"'),\n",
    "        F.col('\"Tool wear\"')\n",
    "    ).alias('PREDICTION'),\n",
    ").to_pandas()\n",
    "\n",
    "predictions"
   ]
  },
  {
   "cell_type": "code",
   "execution_count": 25,
   "id": "ebe31acd",
   "metadata": {},
   "outputs": [
    {
     "ename": "AttributeError",
     "evalue": "DataFrame object has no attribute size",
     "output_type": "error",
     "traceback": [
      "\u001b[0;31m---------------------------------------------------------------------------\u001b[0m",
      "\u001b[0;31mAttributeError\u001b[0m                            Traceback (most recent call last)",
      "Cell \u001b[0;32mIn[25], line 1\u001b[0m\n\u001b[0;32m----> 1\u001b[0m \u001b[43msnow_df\u001b[49m\u001b[38;5;241;43m.\u001b[39;49m\u001b[43msize\u001b[49m\n",
      "File \u001b[0;32m~/Documents/snowpark-python/src/snowflake/snowpark/dataframe.py:845\u001b[0m, in \u001b[0;36mDataFrame.__getattr__\u001b[0;34m(self, name)\u001b[0m\n\u001b[1;32m    842\u001b[0m \u001b[38;5;28;01mdef\u001b[39;00m \u001b[38;5;21m__getattr__\u001b[39m(\u001b[38;5;28mself\u001b[39m, name: \u001b[38;5;28mstr\u001b[39m):\n\u001b[1;32m    843\u001b[0m     \u001b[38;5;66;03m# Snowflake DB ignores cases when there is no quotes.\u001b[39;00m\n\u001b[1;32m    844\u001b[0m     \u001b[38;5;28;01mif\u001b[39;00m name\u001b[38;5;241m.\u001b[39mlower() \u001b[38;5;129;01mnot\u001b[39;00m \u001b[38;5;129;01min\u001b[39;00m [c\u001b[38;5;241m.\u001b[39mlower() \u001b[38;5;28;01mfor\u001b[39;00m c \u001b[38;5;129;01min\u001b[39;00m \u001b[38;5;28mself\u001b[39m\u001b[38;5;241m.\u001b[39mcolumns]:\n\u001b[0;32m--> 845\u001b[0m         \u001b[38;5;28;01mraise\u001b[39;00m \u001b[38;5;167;01mAttributeError\u001b[39;00m(\n\u001b[1;32m    846\u001b[0m             \u001b[38;5;124mf\u001b[39m\u001b[38;5;124m\"\u001b[39m\u001b[38;5;132;01m{\u001b[39;00m\u001b[38;5;28mself\u001b[39m\u001b[38;5;241m.\u001b[39m\u001b[38;5;18m__class__\u001b[39m\u001b[38;5;241m.\u001b[39m\u001b[38;5;18m__name__\u001b[39m\u001b[38;5;132;01m}\u001b[39;00m\u001b[38;5;124m object has no attribute \u001b[39m\u001b[38;5;132;01m{\u001b[39;00mname\u001b[38;5;132;01m}\u001b[39;00m\u001b[38;5;124m\"\u001b[39m\n\u001b[1;32m    847\u001b[0m         )\n\u001b[1;32m    848\u001b[0m     \u001b[38;5;28;01mreturn\u001b[39;00m \u001b[38;5;28mself\u001b[39m\u001b[38;5;241m.\u001b[39mcol(name)\n",
      "\u001b[0;31mAttributeError\u001b[0m: DataFrame object has no attribute size"
     ]
    }
   ],
   "source": []
  },
  {
   "cell_type": "code",
   "execution_count": null,
   "id": "7fc2c623",
   "metadata": {},
   "outputs": [],
   "source": []
  }
 ],
 "metadata": {
  "kernelspec": {
   "display_name": "Python 3 (ipykernel)",
   "language": "python",
   "name": "python3"
  },
  "language_info": {
   "codemirror_mode": {
    "name": "ipython",
    "version": 3
   },
   "file_extension": ".py",
   "mimetype": "text/x-python",
   "name": "python",
   "nbconvert_exporter": "python",
   "pygments_lexer": "ipython3",
   "version": "3.8.16"
  }
 },
 "nbformat": 4,
 "nbformat_minor": 5
}
