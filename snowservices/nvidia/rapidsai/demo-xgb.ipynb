{
 "cells": [
  {
   "cell_type": "code",
   "execution_count": 1,
   "id": "a37256ed-789a-4b7f-8044-519132d25c61",
   "metadata": {
    "tags": []
   },
   "outputs": [],
   "source": [
    "import os\n",
    "\n",
    "from snowflake.snowpark import Session\n",
    "from snowflake.snowpark.functions import udf, sproc, servicesproc\n",
    "from snowflake.snowpark import functions as F\n",
    "from snowflake.snowpark.types import *"
   ]
  },
  {
   "cell_type": "code",
   "execution_count": 2,
   "id": "a1a69f82",
   "metadata": {},
   "outputs": [],
   "source": [
    "connection_parameters = {\n",
    "    \"account\": \"servicesnow\",\n",
    "    \"user\": \"madkins\",\n",
    "    \"password\": \"July2892!\",\n",
    "    \"host\": \"servicesnow.temptest002038.us-west-2.aws.snowflakecomputing.com\",\n",
    "    \"database\": \"MADKINS\",\n",
    "    \"schema\": \"PUBLIC\"\n",
    "}\n",
    "session = Session.builder.configs(connection_parameters).create()"
   ]
  },
  {
   "cell_type": "code",
   "execution_count": 3,
   "id": "2be7308c-8585-4395-8c9a-e6d26f8a8102",
   "metadata": {
    "tags": []
   },
   "outputs": [],
   "source": [
    "@servicesproc(snowservice='CORS')\n",
    "def train_cpu(session: Session) -> str:\n",
    "    import math\n",
    "    x = 1\n",
    "    y = 2\n",
    "    \n",
    "    return x+y"
   ]
  },
  {
   "cell_type": "code",
   "execution_count": 4,
   "id": "28642c8f",
   "metadata": {},
   "outputs": [
    {
     "name": "stdout",
     "output_type": "stream",
     "text": [
      "https://giccv-tt2038-servicesnow.ingress-03.dev-snowflakecomputing.app/sp\n",
      "\n"
     ]
    }
   ],
   "source": [
    "train_cpu()"
   ]
  },
  {
   "cell_type": "code",
   "execution_count": null,
   "id": "19f8727b",
   "metadata": {},
   "outputs": [],
   "source": []
  },
  {
   "cell_type": "code",
   "execution_count": null,
   "id": "8b88c216",
   "metadata": {},
   "outputs": [],
   "source": []
  },
  {
   "cell_type": "code",
   "execution_count": 3,
   "id": "ab8fd8d1",
   "metadata": {},
   "outputs": [],
   "source": [
    "import snowflake.connector\n",
    "connection_parameters = {\n",
    "    \"account\": \"VUA92284\",\n",
    "    \"user\": \"madkins\",\n",
    "    \"password\": \"July2892!\",\n",
    "    \"database\": \"MADKINS\",\n",
    "    \"schema\": \"PUBLIC\",\n",
    "    \"warehouse\": \"COMPUTE_WH\",\n",
    "    \"role\": \"SYSADMIN\"\n",
    "}\n",
    "conn = snowflake.connector.connect(**connection_parameters)\n",
    "batches = conn.cursor().execute('SELECT * FROM \"SIP_LOCAL\".\"PUBLIC\".\"SIP_TRADES\" LIMIT 10000').get_result_batches()"
   ]
  },
  {
   "cell_type": "code",
   "execution_count": 13,
   "id": "9ac8ec2f",
   "metadata": {},
   "outputs": [
    {
     "data": {
      "text/html": [
       "<div>\n",
       "<style scoped>\n",
       "    .dataframe tbody tr th:only-of-type {\n",
       "        vertical-align: middle;\n",
       "    }\n",
       "\n",
       "    .dataframe tbody tr th {\n",
       "        vertical-align: top;\n",
       "    }\n",
       "\n",
       "    .dataframe thead th {\n",
       "        text-align: right;\n",
       "    }\n",
       "</style>\n",
       "<table border=\"1\" class=\"dataframe\">\n",
       "  <thead>\n",
       "    <tr style=\"text-align: right;\">\n",
       "      <th></th>\n",
       "      <th>TID</th>\n",
       "      <th>TICKER</th>\n",
       "      <th>EXCHANGE_TIMESTAMP</th>\n",
       "      <th>PRICE</th>\n",
       "      <th>SIZE</th>\n",
       "      <th>ID</th>\n",
       "    </tr>\n",
       "  </thead>\n",
       "  <tbody>\n",
       "    <tr>\n",
       "      <th>0</th>\n",
       "      <td>259</td>\n",
       "      <td>AMC</td>\n",
       "      <td>1622804931551968768</td>\n",
       "      <td>47.66</td>\n",
       "      <td>80</td>\n",
       "      <td>259001622804931551968768</td>\n",
       "    </tr>\n",
       "    <tr>\n",
       "      <th>1</th>\n",
       "      <td>259</td>\n",
       "      <td>AMC</td>\n",
       "      <td>1622804931551968768</td>\n",
       "      <td>47.66</td>\n",
       "      <td>80</td>\n",
       "      <td>259001622804931551968768</td>\n",
       "    </tr>\n",
       "    <tr>\n",
       "      <th>2</th>\n",
       "      <td>259</td>\n",
       "      <td>AMC</td>\n",
       "      <td>1622804931551968768</td>\n",
       "      <td>47.63</td>\n",
       "      <td>79</td>\n",
       "      <td>259001622804931551968768</td>\n",
       "    </tr>\n",
       "    <tr>\n",
       "      <th>3</th>\n",
       "      <td>259</td>\n",
       "      <td>AMC</td>\n",
       "      <td>1622804931551968768</td>\n",
       "      <td>47.65</td>\n",
       "      <td>80</td>\n",
       "      <td>259001622804931551968768</td>\n",
       "    </tr>\n",
       "    <tr>\n",
       "      <th>4</th>\n",
       "      <td>259</td>\n",
       "      <td>AMC</td>\n",
       "      <td>1622804931552265000</td>\n",
       "      <td>47.64</td>\n",
       "      <td>46</td>\n",
       "      <td>259001622804931552265000</td>\n",
       "    </tr>\n",
       "    <tr>\n",
       "      <th>...</th>\n",
       "      <td>...</td>\n",
       "      <td>...</td>\n",
       "      <td>...</td>\n",
       "      <td>...</td>\n",
       "      <td>...</td>\n",
       "      <td>...</td>\n",
       "    </tr>\n",
       "    <tr>\n",
       "      <th>2394</th>\n",
       "      <td>259</td>\n",
       "      <td>AMC</td>\n",
       "      <td>1622805184977246000</td>\n",
       "      <td>48.08</td>\n",
       "      <td>90</td>\n",
       "      <td>259001622805184977246000</td>\n",
       "    </tr>\n",
       "    <tr>\n",
       "      <th>2395</th>\n",
       "      <td>259</td>\n",
       "      <td>AMC</td>\n",
       "      <td>1622805184977246000</td>\n",
       "      <td>48.08</td>\n",
       "      <td>90</td>\n",
       "      <td>259001622805184977246000</td>\n",
       "    </tr>\n",
       "    <tr>\n",
       "      <th>2396</th>\n",
       "      <td>259</td>\n",
       "      <td>AMC</td>\n",
       "      <td>1622805184978147840</td>\n",
       "      <td>48.09</td>\n",
       "      <td>90</td>\n",
       "      <td>259001622805184978147840</td>\n",
       "    </tr>\n",
       "    <tr>\n",
       "      <th>2397</th>\n",
       "      <td>259</td>\n",
       "      <td>AMC</td>\n",
       "      <td>1622805184978147840</td>\n",
       "      <td>48.10</td>\n",
       "      <td>90</td>\n",
       "      <td>259001622805184978147840</td>\n",
       "    </tr>\n",
       "    <tr>\n",
       "      <th>2398</th>\n",
       "      <td>259</td>\n",
       "      <td>AMC</td>\n",
       "      <td>1622805184978147840</td>\n",
       "      <td>48.11</td>\n",
       "      <td>70</td>\n",
       "      <td>259001622805184978147840</td>\n",
       "    </tr>\n",
       "  </tbody>\n",
       "</table>\n",
       "<p>2399 rows × 6 columns</p>\n",
       "</div>"
      ],
      "text/plain": [
       "      TID TICKER   EXCHANGE_TIMESTAMP  PRICE  SIZE                        ID\n",
       "0     259    AMC  1622804931551968768  47.66    80  259001622804931551968768\n",
       "1     259    AMC  1622804931551968768  47.66    80  259001622804931551968768\n",
       "2     259    AMC  1622804931551968768  47.63    79  259001622804931551968768\n",
       "3     259    AMC  1622804931551968768  47.65    80  259001622804931551968768\n",
       "4     259    AMC  1622804931552265000  47.64    46  259001622804931552265000\n",
       "...   ...    ...                  ...    ...   ...                       ...\n",
       "2394  259    AMC  1622805184977246000  48.08    90  259001622805184977246000\n",
       "2395  259    AMC  1622805184977246000  48.08    90  259001622805184977246000\n",
       "2396  259    AMC  1622805184978147840  48.09    90  259001622805184978147840\n",
       "2397  259    AMC  1622805184978147840  48.10    90  259001622805184978147840\n",
       "2398  259    AMC  1622805184978147840  48.11    70  259001622805184978147840\n",
       "\n",
       "[2399 rows x 6 columns]"
      ]
     },
     "execution_count": 13,
     "metadata": {},
     "output_type": "execute_result"
    }
   ],
   "source": [
    "batches[1].to_pandas()"
   ]
  },
  {
   "cell_type": "code",
   "execution_count": 7,
   "id": "97fa8e66",
   "metadata": {},
   "outputs": [
    {
     "data": {
      "text/plain": [
       "<snowflake.connector.connection.SnowflakeConnection at 0x16c7437f0>"
      ]
     },
     "execution_count": 7,
     "metadata": {},
     "output_type": "execute_result"
    }
   ],
   "source": [
    "\"SIP_LOCAL\".\"PUBLIC\".\"SIP_TRADES\""
   ]
  },
  {
   "cell_type": "code",
   "execution_count": null,
   "id": "6f426310",
   "metadata": {},
   "outputs": [],
   "source": []
  }
 ],
 "metadata": {
  "kernelspec": {
   "display_name": "Python 3 (ipykernel)",
   "language": "python",
   "name": "python3"
  },
  "language_info": {
   "codemirror_mode": {
    "name": "ipython",
    "version": 3
   },
   "file_extension": ".py",
   "mimetype": "text/x-python",
   "name": "python",
   "nbconvert_exporter": "python",
   "pygments_lexer": "ipython3",
   "version": "3.8.16"
  }
 },
 "nbformat": 4,
 "nbformat_minor": 5
}
