{
 "cells": [
  {
   "cell_type": "code",
   "execution_count": 1,
   "id": "cec47125",
   "metadata": {},
   "outputs": [],
   "source": [
    "import os\n",
    "from snowflake.snowpark import Session\n",
    "from snowflake.snowpark.functions import sproc, servicesproc"
   ]
  },
  {
   "cell_type": "code",
   "execution_count": 2,
   "id": "a755f459",
   "metadata": {},
   "outputs": [],
   "source": [
    "connection_parameters = {\n",
    "    \"account\": \"VUA92284\",\n",
    "    \"user\": \"snowflake_nvidia\",\n",
    "    \"password\": os.environ['SNOWFLAKE_TEMP_PASSWORD'],\n",
    "    \"role\": \"SNOWFLAKE_NVIDIA\",  # optional\n",
    "    \"warehouse\": \"SNOWFLAKE_NVIDIA\",  # medium snowpark-optimized\n",
    "    \"database\": \"SNOWFLAKE_NVIDIA\",  \n",
    "    \"schema\": \"PUBLIC\",  \n",
    "  }  "
   ]
  },
  {
   "cell_type": "code",
   "execution_count": 3,
   "id": "169db876",
   "metadata": {},
   "outputs": [],
   "source": [
    "session = Session.builder.configs(connection_parameters).create()"
   ]
  },
  {
   "cell_type": "code",
   "execution_count": 4,
   "id": "eed3a8d5",
   "metadata": {},
   "outputs": [],
   "source": [
    "rows = 1_000_000"
   ]
  },
  {
   "cell_type": "code",
   "execution_count": 5,
   "id": "c7b84ad7",
   "metadata": {},
   "outputs": [],
   "source": [
    "#@sproc(packages=['snowflake-snowpark-python','scikit-learn', 'xgboost'])\n",
    "@servicesproc(snowservice='NVIDIA', packages=['snowflake-snowpark-python','scikit-learn', 'xgboost'])\n",
    "def train_model(session: Session) -> str:\n",
    "    \n",
    "    import joblib\n",
    "    from datetime import datetime\n",
    "    \n",
    "    from sklearn.pipeline import Pipeline\n",
    "    from sklearn.compose import ColumnTransformer\n",
    "    from sklearn.preprocessing import OneHotEncoder\n",
    "    \n",
    "    \n",
    "    #from sklearn.impute import SimpleImputer\n",
    "    #from sklearn.preprocessing import StandardScaler\n",
    "    from cuml.preprocessing import StandardScaler, SimpleImputer\n",
    "    \n",
    "    from xgboost import XGBRegressor\n",
    "\n",
    "    start = datetime.now()\n",
    "\n",
    "    snowdf = session.table('\"SNOWFLAKE_NVIDIA\".\"PUBLIC\".\"TPCDS_SF10TCL_TRAINING\"').limit(rows) #62,726,989 / 1.4 GB compressed\n",
    "    snowdf = snowdf.drop(['CUSTOMER_SK', 'C_CURRENT_HDEMO_SK', 'C_CURRENT_ADDR_SK', 'C_CUSTOMER_ID', 'CA_ADDRESS_SK', 'CD_DEMO_SK'])\n",
    "\n",
    "    train_x = snowdf.drop(\"TOTAL_SALES\").to_pandas() # drop labels for training set\n",
    "    train_y = snowdf.select(\"TOTAL_SALES\").to_pandas()\n",
    "\n",
    "    cat_cols = ['CA_ZIP', 'CD_MARITAL_STATUS', 'CD_CREDIT_RATING', 'CD_EDUCATION_STATUS']\n",
    "    num_cols = ['C_BIRTH_YEAR', 'CD_DEP_COUNT']\n",
    "\n",
    "    num_pipeline = Pipeline(\n",
    "        [\n",
    "            ('imputer', SimpleImputer(strategy=\"median\")),\n",
    "            ('std_scaler', StandardScaler()),\n",
    "        ]\n",
    "    )\n",
    "\n",
    "    preprocessor = ColumnTransformer(\n",
    "        transformers=[\n",
    "            ('num', num_pipeline, num_cols),\n",
    "            ('encoder', OneHotEncoder(handle_unknown=\"ignore\"), cat_cols)\n",
    "        ]\n",
    "    )\n",
    "\n",
    "    feature_pipe = Pipeline(\n",
    "        [\n",
    "            ('preprocessor', preprocessor), \n",
    "        ]\n",
    "    )\n",
    "\n",
    "    feature_pipe.fit(train_x, train_y)\n",
    "\n",
    "    #xgb = XGBRegressor(tree_method='hist')\n",
    "    xgb = XGBRegressor(tree_method='gpu_hist')\n",
    "\n",
    "    xgb.fit(feature_pipe.transform(train_x),train_y)\n",
    "\n",
    "    end = datetime.now()\n",
    "\n",
    "    return str(end-start)+'s'"
   ]
  },
  {
   "cell_type": "code",
   "execution_count": 6,
   "id": "95c44a8e",
   "metadata": {},
   "outputs": [
    {
     "name": "stdout",
     "output_type": "stream",
     "text": [
      "CPU times: user 4.56 ms, sys: 2 ms, total: 6.56 ms\n",
      "Wall time: 9.19 s\n"
     ]
    },
    {
     "data": {
      "text/plain": [
       "{'result': '0:00:08.758439s'}"
      ]
     },
     "execution_count": 6,
     "metadata": {},
     "output_type": "execute_result"
    }
   ],
   "source": [
    "%%time\n",
    "train_model()"
   ]
  },
  {
   "cell_type": "code",
   "execution_count": null,
   "id": "f1dcefe4",
   "metadata": {},
   "outputs": [],
   "source": []
  },
  {
   "cell_type": "code",
   "execution_count": null,
   "id": "75148ecd",
   "metadata": {},
   "outputs": [],
   "source": []
  },
  {
   "cell_type": "code",
   "execution_count": null,
   "id": "23840a5a",
   "metadata": {},
   "outputs": [],
   "source": []
  },
  {
   "cell_type": "code",
   "execution_count": null,
   "id": "a1072d40",
   "metadata": {},
   "outputs": [],
   "source": []
  },
  {
   "cell_type": "code",
   "execution_count": null,
   "id": "b6ef1675",
   "metadata": {},
   "outputs": [],
   "source": []
  },
  {
   "cell_type": "code",
   "execution_count": null,
   "id": "8a76e350",
   "metadata": {},
   "outputs": [],
   "source": []
  },
  {
   "cell_type": "code",
   "execution_count": null,
   "id": "d48e5e7e",
   "metadata": {},
   "outputs": [],
   "source": []
  },
  {
   "cell_type": "code",
   "execution_count": null,
   "id": "d90e7f49",
   "metadata": {},
   "outputs": [],
   "source": []
  },
  {
   "cell_type": "code",
   "execution_count": null,
   "id": "7e73fd97",
   "metadata": {},
   "outputs": [],
   "source": []
  },
  {
   "cell_type": "code",
   "execution_count": null,
   "id": "3fe09e63",
   "metadata": {},
   "outputs": [],
   "source": []
  },
  {
   "cell_type": "code",
   "execution_count": null,
   "id": "4f58f4c7",
   "metadata": {},
   "outputs": [],
   "source": [
    "@sproc(packages=['snowflake-snowpark-python'])\n",
    "def memory_usage(session: Session) -> str:\n",
    "    from datetime import datetime\n",
    "\n",
    "    start = datetime.now()\n",
    "    df = session.sql('SELECT * FROM SNOWFLAKE_TEST_DATA_100_10000').to_pandas()\n",
    "    end = datetime.now()\n",
    "    \n",
    "    return str(end-start)+'s '+str(df.memory_usage(deep=True).sum()/1000000000)+'GB'"
   ]
  },
  {
   "cell_type": "code",
   "execution_count": 5,
   "id": "922e688b",
   "metadata": {},
   "outputs": [
    {
     "data": {
      "text/plain": [
       "'0:00:02.191049s 0.008000128GB'"
      ]
     },
     "execution_count": 5,
     "metadata": {},
     "output_type": "execute_result"
    }
   ],
   "source": [
    "memory_usage()"
   ]
  },
  {
   "cell_type": "code",
   "execution_count": 6,
   "id": "36980751",
   "metadata": {},
   "outputs": [],
   "source": [
    "@servicesproc(snowservice='NVIDIA', packages=['snowflake-snowpark-python'])\n",
    "def memory_usage(session: Session) -> str:\n",
    "    from datetime import datetime\n",
    "\n",
    "    start = datetime.now()\n",
    "    df = session.sql('SELECT * FROM SNOWFLAKE_TEST_DATA_100_10000').to_pandas()\n",
    "    end = datetime.now()\n",
    "    \n",
    "    return str(end-start)+'s '+str(df.memory_usage(deep=True).sum()/1000000000)+'GB'"
   ]
  },
  {
   "cell_type": "code",
   "execution_count": 7,
   "id": "5ab5fc5b",
   "metadata": {},
   "outputs": [
    {
     "data": {
      "text/plain": [
       "{'result': '0:00:00.521847s 0.008000128GB'}"
      ]
     },
     "execution_count": 7,
     "metadata": {},
     "output_type": "execute_result"
    }
   ],
   "source": [
    "memory_usage()"
   ]
  },
  {
   "cell_type": "code",
   "execution_count": null,
   "id": "34c08b8d",
   "metadata": {},
   "outputs": [],
   "source": []
  },
  {
   "cell_type": "code",
   "execution_count": null,
   "id": "2a07741c",
   "metadata": {},
   "outputs": [],
   "source": []
  },
  {
   "cell_type": "code",
   "execution_count": 12,
   "id": "e9788fb1",
   "metadata": {},
   "outputs": [],
   "source": [
    "@servicesproc(snowservice='NVIDIA', packages=['snowflake-snowpark-python'])\n",
    "def train_model_cpu(session: Session) -> dict:\n",
    "    from datetime import datetime\n",
    "    from xgboost import XGBRegressor\n",
    "    \n",
    "    cols = 100\n",
    "    rows = 10_000\n",
    "    opt='hist'\n",
    "    \n",
    "    start = datetime.now()\n",
    "    df = session.sql(f'SELECT * FROM \"SNOWFLAKE_NVIDIA\".\"PUBLIC\".\"SNOWFLAKE_TEST_DATA_{cols}_{rows}\"').to_pandas()\n",
    "    end = datetime.now()\n",
    "    load = end-start\n",
    "    \n",
    "    start = datetime.now()\n",
    "    xgb = XGBRegressor(tree_method=opt, n_jobs=10)\n",
    "    model  = xgb.fit(df,df['COLUMN1'])\n",
    "    end = datetime.now()\n",
    "    train = end-start\n",
    "    \n",
    "    return {\n",
    "        'opt': opt,\n",
    "        'rows': str(rows),\n",
    "        'cols': str(cols),\n",
    "        'data_size': str(df.memory_usage(deep=True).sum()/1000000000)+'GB',\n",
    "        'load': str(load)+'s',\n",
    "        'train': str(train)+'s'\n",
    "    }"
   ]
  },
  {
   "cell_type": "code",
   "execution_count": 13,
   "id": "7c0903c0",
   "metadata": {},
   "outputs": [],
   "source": [
    "@servicesproc(snowservice='NVIDIA', packages=['snowflake-snowpark-python'])\n",
    "def train_model_gpu(session: Session) -> dict:\n",
    "    from datetime import datetime\n",
    "    from xgboost import XGBRegressor\n",
    "    \n",
    "    cols = 100\n",
    "    rows = 10_000\n",
    "    opt='gpu_hist'\n",
    "    \n",
    "    start = datetime.now()\n",
    "    df = session.sql(f'SELECT * FROM \"SNOWFLAKE_NVIDIA\".\"PUBLIC\".\"SNOWFLAKE_TEST_DATA_{cols}_{rows}\"').to_pandas()\n",
    "    end = datetime.now()\n",
    "    load = end-start\n",
    "    \n",
    "    start = datetime.now()\n",
    "    xgb = XGBRegressor(tree_method=opt, n_jobs=10)\n",
    "    model  = xgb.fit(df,df['COLUMN1'])\n",
    "    end = datetime.now()\n",
    "    train = end-start\n",
    "    \n",
    "    return {\n",
    "        'opt': opt,\n",
    "        'rows': str(rows),\n",
    "        'cols': str(cols),\n",
    "        'data_size': str(df.memory_usage(deep=True).sum()/1000000000)+'GB',\n",
    "        'load': str(load)+'s',\n",
    "        'train': str(train)+'s'\n",
    "    }"
   ]
  },
  {
   "cell_type": "code",
   "execution_count": 14,
   "id": "4203b8a8",
   "metadata": {},
   "outputs": [
    {
     "name": "stdout",
     "output_type": "stream",
     "text": [
      "CPU times: user 6.57 ms, sys: 6.47 ms, total: 13 ms\n",
      "Wall time: 2.33 s\n"
     ]
    },
    {
     "data": {
      "text/plain": [
       "{'result': {'opt': 'hist',\n",
       "  'rows': '10000',\n",
       "  'cols': '100',\n",
       "  'data_size': '0.008000128GB',\n",
       "  'load': '0:00:00.978266s',\n",
       "  'train': '0:00:00.808715s'}}"
      ]
     },
     "execution_count": 14,
     "metadata": {},
     "output_type": "execute_result"
    }
   ],
   "source": [
    "%%time\n",
    "train_model_cpu()"
   ]
  },
  {
   "cell_type": "code",
   "execution_count": 15,
   "id": "fa2829be",
   "metadata": {},
   "outputs": [
    {
     "name": "stdout",
     "output_type": "stream",
     "text": [
      "CPU times: user 6.45 ms, sys: 2.49 ms, total: 8.93 ms\n",
      "Wall time: 1.31 s\n"
     ]
    },
    {
     "data": {
      "text/plain": [
       "{'result': {'opt': 'gpu_hist',\n",
       "  'rows': '10000',\n",
       "  'cols': '100',\n",
       "  'data_size': '0.008000128GB',\n",
       "  'load': '0:00:00.301539s',\n",
       "  'train': '0:00:00.697223s'}}"
      ]
     },
     "execution_count": 15,
     "metadata": {},
     "output_type": "execute_result"
    }
   ],
   "source": [
    "%%time\n",
    "train_model_gpu()"
   ]
  },
  {
   "cell_type": "code",
   "execution_count": null,
   "id": "70781b64",
   "metadata": {},
   "outputs": [],
   "source": []
  }
 ],
 "metadata": {
  "kernelspec": {
   "display_name": "Python 3 (ipykernel)",
   "language": "python",
   "name": "python3"
  },
  "language_info": {
   "codemirror_mode": {
    "name": "ipython",
    "version": 3
   },
   "file_extension": ".py",
   "mimetype": "text/x-python",
   "name": "python",
   "nbconvert_exporter": "python",
   "pygments_lexer": "ipython3",
   "version": "3.8.16"
  }
 },
 "nbformat": 4,
 "nbformat_minor": 5
}
