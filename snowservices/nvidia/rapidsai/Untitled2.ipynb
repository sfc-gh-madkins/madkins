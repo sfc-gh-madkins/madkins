{
 "cells": [
  {
   "cell_type": "code",
   "execution_count": 1,
   "id": "9d792adc",
   "metadata": {},
   "outputs": [],
   "source": [
    "import os\n",
    "from snowflake.snowpark import Session\n",
    "from snowflake.snowpark.functions import sproc, servicesproc"
   ]
  },
  {
   "cell_type": "code",
   "execution_count": null,
   "id": "b71fa99c",
   "metadata": {},
   "outputs": [],
   "source": []
  },
  {
   "cell_type": "code",
   "execution_count": 2,
   "id": "765d6058",
   "metadata": {},
   "outputs": [],
   "source": [
    "connection_parameters = {\n",
    "    \"account\": \"VUA92284\",\n",
    "    \"user\": \"snowflake_nvidia\",\n",
    "    \"password\": os.environ['SNOWFLAKE_TEMP_PASSWORD'],\n",
    "    \"role\": \"SNOWFLAKE_NVIDIA\",  # optional\n",
    "    \"warehouse\": \"SNOWFLAKE_NVIDIA\",  # medium snowpark-optimized\n",
    "    \"database\": \"SNOWFLAKE_NVIDIA\",  \n",
    "    \"schema\": \"PUBLIC\",  \n",
    "  }  "
   ]
  },
  {
   "cell_type": "code",
   "execution_count": 3,
   "id": "fa5cbc1c",
   "metadata": {},
   "outputs": [],
   "source": [
    "session = Session.builder.configs(connection_parameters).create()"
   ]
  },
  {
   "cell_type": "code",
   "execution_count": 4,
   "id": "795644a9",
   "metadata": {},
   "outputs": [],
   "source": [
    "@servicesproc(snowservice='NVIDIA')\n",
    "def train_model(session: Session) -> str:\n",
    "    from snowflake.ml.registry import model_registry\n",
    "    \n",
    "    registry = model_registry.ModelRegistry(session=session)\n",
    "    \n",
    "    # A name and model tags can be added to the model at registration time.\n",
    "    model_id = registry.log_model(model=clf, name=\"my_model\", tags={\n",
    "    \"stage\": \"testing\", \"classifier_type\": \"svm.SVC\", \"svc_gamma\": svc_gamma, \"svc_C\": svc_C})\n",
    "    \n",
    "    # The object API can be used to reference a model after creation.\n",
    "    model = model_registry.ModelReference(registry=registry, id=model_id)\n",
    "    print(\"Registered new model:\", model_id)\n",
    "    \n",
    "    x='test'\n",
    "    return x"
   ]
  },
  {
   "cell_type": "code",
   "execution_count": 5,
   "id": "52250591",
   "metadata": {},
   "outputs": [
    {
     "data": {
      "text/plain": [
       "{'result': 'test'}"
      ]
     },
     "execution_count": 5,
     "metadata": {},
     "output_type": "execute_result"
    }
   ],
   "source": [
    "train_model()"
   ]
  },
  {
   "cell_type": "code",
   "execution_count": null,
   "id": "7281b4b9",
   "metadata": {},
   "outputs": [],
   "source": []
  },
  {
   "cell_type": "code",
   "execution_count": null,
   "id": "cbf9e106",
   "metadata": {},
   "outputs": [],
   "source": []
  }
 ],
 "metadata": {
  "kernelspec": {
   "display_name": "Python 3 (ipykernel)",
   "language": "python",
   "name": "python3"
  },
  "language_info": {
   "codemirror_mode": {
    "name": "ipython",
    "version": 3
   },
   "file_extension": ".py",
   "mimetype": "text/x-python",
   "name": "python",
   "nbconvert_exporter": "python",
   "pygments_lexer": "ipython3",
   "version": "3.8.16"
  }
 },
 "nbformat": 4,
 "nbformat_minor": 5
}
