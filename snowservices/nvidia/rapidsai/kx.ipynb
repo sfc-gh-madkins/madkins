{
 "cells": [
  {
   "cell_type": "code",
   "execution_count": 1,
   "id": "ce747312",
   "metadata": {},
   "outputs": [],
   "source": [
    "from snowflake.snowpark import Session\n",
    "from snowflake.snowpark.functions import sproc"
   ]
  },
  {
   "cell_type": "code",
   "execution_count": 2,
   "id": "cc3bf634",
   "metadata": {},
   "outputs": [],
   "source": [
    "connection_parameters = {\n",
    "    \"account\": \"xe85544.east-us-2.azure\",\n",
    "    \"user\": \"kx\",\n",
    "    \"password\": os.environ['SNOWFLAKE_TEMP_PASSWORD'],\n",
    "    \"role\": \"SYSADMIN\",  # optional\n",
    "    \"warehouse\": \"KX\",  # medium snowpark-optimized\n",
    "    \"database\": \"KX\",\n",
    "    \"schema\": \"BRUNO\",\n",
    "}\n",
    "\n",
    "session = Session.builder.configs(connection_parameters).create()"
   ]
  },
  {
   "cell_type": "code",
   "execution_count": 4,
   "id": "6da20bf0",
   "metadata": {},
   "outputs": [],
   "source": [
    "@sproc(packages=['snowflake-snowpark-python','pykx'])\n",
    "def kx(session: Session) -> dict:\n",
    "\n",
    "    import pykx as kx\n",
    "    \n",
    "    #Import trades data\n",
    "    trades_sdf = session2.table('TRADES')\n",
    "\n",
    "    select_columns = ['\"TTime\"', '\"Symbol\"', '\"Trade Volume\"', '\"Trade Price\"']\n",
    "    trades = trades_sdf.select(select_columns).where('\"Symbol\" = \\'AAPL\\'').order_by('\"TTime\"').toPandas()\n",
    "    trades.columns = ['time', 'symbol', 'tvolume', 'tprice']\n",
    "    trades.reset_index(drop=True, inplace=True)\n",
    "\n",
    "    #import quote data \n",
    "    quotes_sdf = session2.table('QUOTES')\n",
    "\n",
    "    select_columns = ['\"TTime\"', '\"Symbol\"', '\"Bid_Price\"', '\"Bid_Size\"', '\"Offer_Price\"', '\"Offer_Size\"']\n",
    "    quotes = quotes_sdf.select(select_columns).where('\"Symbol\" = \\'AAPL\\'').order_by('\"TTime\"').toPandas()\n",
    "    quotes.columns = ['time', 'symbol', 'qbid_price', 'qbid_size', 'qask_price', 'qask_size']\n",
    "    quotes.reset_index(drop=True, inplace=True)\n",
    "    \n",
    "    #Q\n",
    "    kx.q['trades'] = trades\n",
    "    kx.q['quotes'] = quotes\n",
    "\n",
    "    kx.q('trades: update `g#symbol, `s#time from trades')\n",
    "    kx.q('quotes: update `g#symbol, `s#time from quotes')\n",
    "    kx.q('rez:aj[`symbol`time; trades; quotes]')\n",
    "    kx.q('rez2: update qmid_price: (qbid_price + qask_price) % 2 from rez')\n",
    "    kx.q('rez2: update diff:tprice - qmid_price from rez2')\n",
    "    kx.q('rez2: aj[`symbol`time; rez2; select symbol, time: time - 0D00:00:10, mid10:(qbid_price + qask_price) % 2 from quotes]')\n",
    "\n",
    "    return 'SUCCESS'\n"
   ]
  },
  {
   "cell_type": "code",
   "execution_count": 6,
   "id": "241dfde7",
   "metadata": {},
   "outputs": [
    {
     "data": {
      "text/plain": [
       "{'result': {'pandas_to_kx': '0:00:02.641630', 'q': '0:00:00.412932'}}"
      ]
     },
     "execution_count": 6,
     "metadata": {},
     "output_type": "execute_result"
    }
   ],
   "source": [
    "kx()"
   ]
  },
  {
   "cell_type": "code",
   "execution_count": null,
   "id": "f87ddda1",
   "metadata": {},
   "outputs": [],
   "source": []
  }
 ],
 "metadata": {
  "kernelspec": {
   "display_name": "Python 3 (ipykernel)",
   "language": "python",
   "name": "python3"
  },
  "language_info": {
   "codemirror_mode": {
    "name": "ipython",
    "version": 3
   },
   "file_extension": ".py",
   "mimetype": "text/x-python",
   "name": "python",
   "nbconvert_exporter": "python",
   "pygments_lexer": "ipython3",
   "version": "3.8.16"
  }
 },
 "nbformat": 4,
 "nbformat_minor": 5
}
