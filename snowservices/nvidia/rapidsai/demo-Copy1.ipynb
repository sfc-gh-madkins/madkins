{
 "cells": [
  {
   "cell_type": "code",
   "execution_count": 1,
   "id": "cec47125",
   "metadata": {},
   "outputs": [],
   "source": [
    "import os\n",
    "from snowflake.snowpark import Session\n",
    "from snowflake.snowpark.functions import sproc, servicesproc"
   ]
  },
  {
   "cell_type": "code",
   "execution_count": 2,
   "id": "a755f459",
   "metadata": {},
   "outputs": [],
   "source": [
    "connection_parameters = {\n",
    "    \"account\": \"VUA92284\",\n",
    "    \"user\": \"snowflake_nvidia\",\n",
    "    \"password\": os.environ['SNOWFLAKE_TEMP_PASSWORD'],\n",
    "    \"role\": \"SNOWFLAKE_NVIDIA\",  # optional\n",
    "    \"warehouse\": \"SNOWFLAKE_NVIDIA\",  # medium snowpark-optimized\n",
    "    \"database\": \"SNOWFLAKE_NVIDIA\",  \n",
    "    \"schema\": \"PUBLIC\",  \n",
    "  }  "
   ]
  },
  {
   "cell_type": "code",
   "execution_count": 3,
   "id": "169db876",
   "metadata": {},
   "outputs": [],
   "source": [
    "session = Session.builder.configs(connection_parameters).create()"
   ]
  },
  {
   "cell_type": "code",
   "execution_count": 11,
   "id": "b2c64f43",
   "metadata": {},
   "outputs": [],
   "source": [
    "rows = 50_000_000"
   ]
  },
  {
   "cell_type": "code",
   "execution_count": 3,
   "id": "df56fbd2",
   "metadata": {},
   "outputs": [
    {
     "data": {
      "text/plain": [
       "'July2892!'"
      ]
     },
     "execution_count": 3,
     "metadata": {},
     "output_type": "execute_result"
    }
   ],
   "source": [
    "import os\n"
   ]
  },
  {
   "cell_type": "code",
   "execution_count": 12,
   "id": "a878c86f",
   "metadata": {},
   "outputs": [
    {
     "name": "stderr",
     "output_type": "stream",
     "text": [
      "The version of package xgboost in the local environment is 1.7.4, which does not fit the criteria for the requirement xgboost. Your UDF might not work when the package version is different between the server and your local environment\n"
     ]
    }
   ],
   "source": [
    "@sproc(packages=['snowflake-snowpark-python','scikit-learn', 'xgboost'])\n",
    "def train_model(session: Session) -> str:\n",
    "    \n",
    "    import joblib\n",
    "    from datetime import datetime\n",
    "    \n",
    "    from sklearn.pipeline import Pipeline\n",
    "    from sklearn.impute import SimpleImputer\n",
    "    from sklearn.compose import ColumnTransformer\n",
    "    from sklearn.preprocessing import StandardScaler, OneHotEncoder\n",
    "    \n",
    "    from xgboost import XGBRegressor\n",
    "\n",
    "    start = datetime.now()\n",
    "\n",
    "    snowdf = session.table('\"SNOWFLAKE_NVIDIA\".\"PUBLIC\".\"TPCDS_SF10TCL_TRAINING\"').limit(rows) #62,726,989 / 1.4 GB compressed\n",
    "    snowdf = snowdf.drop(['CUSTOMER_SK', 'C_CURRENT_HDEMO_SK', 'C_CURRENT_ADDR_SK', 'C_CUSTOMER_ID', 'CA_ADDRESS_SK', 'CD_DEMO_SK'])\n",
    "\n",
    "    train_x = snowdf.drop(\"TOTAL_SALES\").to_pandas() # drop labels for training set\n",
    "    train_y = snowdf.select(\"TOTAL_SALES\").to_pandas()\n",
    "\n",
    "    cat_cols = ['CA_ZIP', 'CD_MARITAL_STATUS', 'CD_CREDIT_RATING', 'CD_EDUCATION_STATUS']\n",
    "    num_cols = ['C_BIRTH_YEAR', 'CD_DEP_COUNT']\n",
    "\n",
    "    num_pipeline = Pipeline(\n",
    "        [\n",
    "            ('imputer', SimpleImputer(strategy=\"median\")),\n",
    "            ('std_scaler', StandardScaler()),\n",
    "        ]\n",
    "    )\n",
    "\n",
    "    preprocessor = ColumnTransformer(\n",
    "        transformers=[\n",
    "            ('num', num_pipeline, num_cols),\n",
    "            ('encoder', OneHotEncoder(handle_unknown=\"ignore\"), cat_cols)\n",
    "        ]\n",
    "    )\n",
    "\n",
    "    feature_pipe = Pipeline(\n",
    "        [\n",
    "            ('preprocessor', preprocessor), \n",
    "        ]\n",
    "    )\n",
    "\n",
    "    feature_pipe.fit(train_x, train_y)\n",
    "\n",
    "    xgb = XGBRegressor(tree_method='hist')\n",
    "\n",
    "    xgb.fit(feature_pipe.transform(train_x),train_y)\n",
    "\n",
    "    end = datetime.now()\n",
    "\n",
    "    return str(end-start)+'s'"
   ]
  },
  {
   "cell_type": "code",
   "execution_count": 13,
   "id": "a0544124",
   "metadata": {},
   "outputs": [
    {
     "name": "stdout",
     "output_type": "stream",
     "text": [
      "CPU times: user 37.2 ms, sys: 10.9 ms, total: 48.2 ms\n",
      "Wall time: 4min 41s\n"
     ]
    },
    {
     "data": {
      "text/plain": [
       "'0:04:39.379196s'"
      ]
     },
     "execution_count": 13,
     "metadata": {},
     "output_type": "execute_result"
    }
   ],
   "source": [
    "%%time\n",
    "train_model()"
   ]
  },
  {
   "cell_type": "code",
   "execution_count": null,
   "id": "8c5cd113",
   "metadata": {},
   "outputs": [],
   "source": []
  },
  {
   "cell_type": "code",
   "execution_count": 7,
   "id": "5a2015a0",
   "metadata": {},
   "outputs": [],
   "source": [
    "@servicesproc(snowservice='GPU', packages=['snowflake-snowpark-python','scikit-learn', 'xgboost'])\n",
    "def train_model(session: Session) -> str:\n",
    "    \n",
    "    import joblib\n",
    "    from datetime import datetime\n",
    "    \n",
    "    from sklearn.pipeline import Pipeline\n",
    "    from sklearn.compose import ColumnTransformer\n",
    "    from sklearn.preprocessing import OneHotEncoder\n",
    "\n",
    "    from cuml.preprocessing import StandardScaler, SimpleImputer\n",
    "\n",
    "    from xgboost import XGBRegressor\n",
    "\n",
    "\n",
    "    start = datetime.now()\n",
    "\n",
    "    snowdf = session.table('\"SNOWFLAKE_NVIDIA\".\"PUBLIC\".\"TPCDS_SF10TCL_TRAINING\"').limit(rows) #62,726,989 / 1.4 GB compressed\n",
    "    snowdf = snowdf.drop(['CUSTOMER_SK', 'C_CURRENT_HDEMO_SK', 'C_CURRENT_ADDR_SK', 'C_CUSTOMER_ID', 'CA_ADDRESS_SK', 'CD_DEMO_SK'])\n",
    "\n",
    "    train_x = snowdf.drop(\"TOTAL_SALES\").to_pandas() # drop labels for training set\n",
    "    train_y = snowdf.select(\"TOTAL_SALES\").to_pandas()\n",
    "\n",
    "    cat_cols = ['CA_ZIP', 'CD_MARITAL_STATUS', 'CD_CREDIT_RATING', 'CD_EDUCATION_STATUS']\n",
    "    num_cols = ['C_BIRTH_YEAR', 'CD_DEP_COUNT']\n",
    "\n",
    "    num_pipeline = Pipeline(\n",
    "        [\n",
    "            ('imputer', SimpleImputer(strategy=\"median\")),\n",
    "            ('std_scaler', StandardScaler()),\n",
    "        ]\n",
    "    )\n",
    "\n",
    "    preprocessor = ColumnTransformer(\n",
    "        transformers=[\n",
    "            ('num', num_pipeline, num_cols),\n",
    "            ('encoder', OneHotEncoder(handle_unknown=\"ignore\"), cat_cols)\n",
    "        ]\n",
    "    )\n",
    "\n",
    "    feature_pipe = Pipeline(\n",
    "        [\n",
    "            ('preprocessor', preprocessor), \n",
    "        ]\n",
    "    )\n",
    "\n",
    "    feature_pipe.fit(train_x, train_y)\n",
    "\n",
    "    xgb = XGBRegressor(tree_method='gpu_hist')\n",
    "\n",
    "    xgb.fit(feature_pipe.transform(train_x),train_y)\n",
    "\n",
    "    end = datetime.now()\n",
    "\n",
    "    return str(end-start)+'s'"
   ]
  },
  {
   "cell_type": "code",
   "execution_count": 8,
   "id": "f153c096",
   "metadata": {},
   "outputs": [
    {
     "name": "stdout",
     "output_type": "stream",
     "text": [
      "CPU times: user 7.04 ms, sys: 2.49 ms, total: 9.52 ms\n",
      "Wall time: 52.8 s\n"
     ]
    },
    {
     "data": {
      "text/plain": [
       "{'result': '0:00:50.143147s'}"
      ]
     },
     "execution_count": 8,
     "metadata": {},
     "output_type": "execute_result"
    }
   ],
   "source": [
    "%%time\n",
    "train_model()"
   ]
  },
  {
   "cell_type": "code",
   "execution_count": null,
   "id": "70781b64",
   "metadata": {},
   "outputs": [],
   "source": []
  }
 ],
 "metadata": {
  "kernelspec": {
   "display_name": "Python 3 (ipykernel)",
   "language": "python",
   "name": "python3"
  },
  "language_info": {
   "codemirror_mode": {
    "name": "ipython",
    "version": 3
   },
   "file_extension": ".py",
   "mimetype": "text/x-python",
   "name": "python",
   "nbconvert_exporter": "python",
   "pygments_lexer": "ipython3",
   "version": "3.8.16"
  }
 },
 "nbformat": 4,
 "nbformat_minor": 5
}
