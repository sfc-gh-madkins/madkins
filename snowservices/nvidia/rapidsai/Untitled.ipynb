{
 "cells": [
  {
   "cell_type": "code",
   "execution_count": 53,
   "id": "8df3d6c5",
   "metadata": {},
   "outputs": [
    {
     "name": "stderr",
     "output_type": "stream",
     "text": [
      "/var/folders/8v/b1vh6rq55zq1b4bwqr_gxm3m0000gn/T/ipykernel_13970/3482953643.py:15: RuntimeWarning: covariance is not positive-semidefinite.\n",
      "  data = np.random.multivariate_normal(\n"
     ]
    }
   ],
   "source": [
    "import numpy as np\n",
    "\n",
    "num_users = 1000\n",
    "num_items = 500\n",
    "num_features = 10\n",
    "num_samples = 100000\n",
    "target_corr = 0.9\n",
    "\n",
    "# Generate a random correlation matrix\n",
    "corr_matrix = np.random.uniform(low=-1, high=1, size=(num_features, num_features))\n",
    "corr_matrix = np.tril(corr_matrix) + np.tril(corr_matrix, -1).T\n",
    "corr_matrix[np.diag_indices(num_features)] = 1.0\n",
    "\n",
    "# Generate random data with the specified correlation\n",
    "data = np.random.multivariate_normal(\n",
    "    mean=np.zeros(num_features),\n",
    "    cov=corr_matrix,\n",
    "    size=num_samples\n",
    ")\n",
    "\n",
    "# Calculate labels based on the sum of features, multiplied by the target correlation\n",
    "labels = np.sum(data, axis=1) * target_corr + np.random.normal(size=num_samples)\n",
    "\n",
    "# Generate random user and item IDs\n",
    "user_ids = np.random.randint(num_users, size=num_samples)\n",
    "item_ids = np.random.randint(num_items, size=num_samples)\n",
    "\n",
    "# Combine the data and labels into a single array\n",
    "features = np.column_stack([user_ids, item_ids, data])\n",
    "all_data = np.column_stack([features, labels])\n",
    "\n",
    "# Split the data into training and validation sets\n",
    "train_size = int(num_samples * 0.8)\n",
    "train_data = all_data[:train_size]\n",
    "val_data = all_data[train_size:]\n",
    "\n",
    "train_user_ids = train_data[:, 0]\n",
    "train_item_ids = train_data[:, 1]\n",
    "train_features = train_data[:, 2:-1]\n",
    "train_labels = train_data[:, -1].reshape(-1, 1)\n",
    "\n",
    "val_user_ids = val_data[:, 0]\n",
    "val_item_ids = val_data[:, 1]\n",
    "val_features = val_data[:, 2:-1]\n",
    "val_labels = val_data[:, -1].reshape(-1, 1)"
   ]
  },
  {
   "cell_type": "code",
   "execution_count": 54,
   "id": "43abaf30",
   "metadata": {},
   "outputs": [],
   "source": [
    "import torch\n",
    "device = 'cuda' if torch.cuda.is_available() else 'cpu'"
   ]
  },
  {
   "cell_type": "code",
   "execution_count": 55,
   "id": "a6377413",
   "metadata": {},
   "outputs": [
    {
     "name": "stderr",
     "output_type": "stream",
     "text": [
      "/Users/madkins/.pyenv/versions/3.8.13/envs/snowpark/lib/python3.8/site-packages/pytorch_tabnet/abstract_model.py:75: UserWarning: Device used : cpu\n",
      "  warnings.warn(f\"Device used : {self.device}\")\n"
     ]
    }
   ],
   "source": [
    "from pytorch_tabnet.tab_model import TabNetRegressor\n",
    "\n",
    "# Define the model\n",
    "model = TabNetRegressor(\n",
    "    n_d=32, n_a=32, n_steps=4, gamma=1.3,\n",
    "    lambda_sparse=0, optimizer_fn=torch.optim.Adam,\n",
    "    optimizer_params=dict(lr=2e-2, weight_decay=1e-5),\n",
    "    mask_type='entmax', scheduler_params=dict(mode=\"min\", patience=5, min_lr=1e-5, factor=0.9),\n",
    "    scheduler_fn=torch.optim.lr_scheduler.ReduceLROnPlateau,\n",
    "    device_name = device,\n",
    "    verbose=1\n",
    ")"
   ]
  },
  {
   "cell_type": "code",
   "execution_count": 57,
   "id": "27a5bd76",
   "metadata": {},
   "outputs": [
    {
     "name": "stdout",
     "output_type": "stream",
     "text": [
      "epoch 0  | loss: 4.3733  | val_mse: 2.79401 |  0:00:15s\n",
      "epoch 1  | loss: 1.61583 | val_mse: 1.52658 |  0:00:31s\n",
      "epoch 2  | loss: 1.34815 | val_mse: 1.37828 |  0:00:49s\n",
      "epoch 3  | loss: 1.31546 | val_mse: 1.31404 |  0:01:07s\n",
      "epoch 4  | loss: 1.27199 | val_mse: 1.17648 |  0:01:24s\n",
      "Stop training because you reached max_epochs = 5 with best_epoch = 4 and best_val_mse = 1.17648\n"
     ]
    },
    {
     "name": "stderr",
     "output_type": "stream",
     "text": [
      "/Users/madkins/.pyenv/versions/3.8.13/envs/snowpark/lib/python3.8/site-packages/pytorch_tabnet/callbacks.py:172: UserWarning: Best weights from best epoch are automatically used!\n",
      "  warnings.warn(wrn_msg)\n"
     ]
    }
   ],
   "source": [
    "# Train the model\n",
    "model.fit(\n",
    "    X_train=train_features, y_train=train_labels,\n",
    "    eval_set=[(val_features, val_labels)],\n",
    "    eval_name=['val'],\n",
    "    max_epochs=5,\n",
    "    patience=10,\n",
    "    batch_size=3024,\n",
    "    virtual_batch_size=128,\n",
    "    num_workers=0,\n",
    "    drop_last=False,\n",
    ")\n"
   ]
  },
  {
   "cell_type": "code",
   "execution_count": 42,
   "id": "56bb0134",
   "metadata": {},
   "outputs": [],
   "source": [
    "# Generate some test data\n",
    "test_user_ids = np.random.randint(num_users, size=100)\n",
    "test_item_ids = np.random.randint(num_items, size=100)\n",
    "test_features = np.random.rand(100, num_features)\n",
    "\n",
    "# Make predictions\n",
    "predictions = model.predict(test_features)\n"
   ]
  },
  {
   "cell_type": "code",
   "execution_count": null,
   "id": "0637164a",
   "metadata": {},
   "outputs": [],
   "source": []
  }
 ],
 "metadata": {
  "kernelspec": {
   "display_name": "Python 3 (ipykernel)",
   "language": "python",
   "name": "python3"
  },
  "language_info": {
   "codemirror_mode": {
    "name": "ipython",
    "version": 3
   },
   "file_extension": ".py",
   "mimetype": "text/x-python",
   "name": "python",
   "nbconvert_exporter": "python",
   "pygments_lexer": "ipython3",
   "version": "3.8.13"
  }
 },
 "nbformat": 4,
 "nbformat_minor": 5
}
