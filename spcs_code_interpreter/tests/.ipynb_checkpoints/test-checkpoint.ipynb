{
 "cells": [
  {
   "cell_type": "code",
   "execution_count": 1,
   "id": "a2ea721e-f7ad-4764-85e8-71210110675c",
   "metadata": {},
   "outputs": [
    {
     "name": "stderr",
     "output_type": "stream",
     "text": [
      "SnowflakeLoginOptions() is in private preview since 0.2.0. Do not use it in production. \n"
     ]
    }
   ],
   "source": [
    "import openai\n",
    "from snowflake.snowpark import Session\n",
    "from snowflake.ml.utils.connection_params import SnowflakeLoginOptions\n",
    "\n",
    "client = openai.OpenAI()\n",
    "session = Session.builder.configs(SnowflakeLoginOptions()).create()"
   ]
  },
  {
   "cell_type": "code",
   "execution_count": 2,
   "id": "0d410415-2d17-422c-995d-8f19d5a31cc2",
   "metadata": {},
   "outputs": [],
   "source": [
    "name = 'spcs_code_interpreter'\n",
    "assistants = client.beta.assistants.list(\n",
    "    order=\"desc\",\n",
    "    limit=\"20\",\n",
    ")\n",
    "assistants = [a for a in assistants if a.name == name]"
   ]
  },
  {
   "cell_type": "code",
   "execution_count": 3,
   "id": "3544124f-ca54-47fa-9b33-34fb1cc0f2fe",
   "metadata": {},
   "outputs": [],
   "source": [
    "spcs_code_interpreter_execute_description = '''\n",
    "\n",
    "This function allows you to execute python code in a stateful python execution environment, just like a jupyter notebook.\n",
    "The following code has already been run:\n",
    "```\n",
    "import os\n",
    "from snowflake.snowpark import Session\n",
    "\n",
    "def get_login_token():\n",
    "    with open('/snowflake/session/token', 'r') as f:\n",
    "        return f.read()\n",
    "\n",
    "connection_parameters = {\n",
    "    \"host\": os.getenv('SNOWFLAKE_HOST'),\n",
    "    \"account\": os.getenv('SNOWFLAKE_ACCOUNT'),\n",
    "    \"token\": get_login_token(),\n",
    "    \"authenticator\": \"oauth\",\n",
    "}\n",
    "session = Session.builder.configs(connection_parameters).create()\n",
    "session\n",
    "```\n",
    "\n",
    "Each time you call this function, the result of final line of code or bug message is returned.\n",
    "For example, given the following question:\n",
    "\"What is x+y where x=1 and y=5\"\n",
    "The python program should look like this:\n",
    "```\n",
    "x=1\n",
    "y=5\n",
    "answer = x + y\n",
    "answer\n",
    "```\n",
    "Notice how the variable \"answer\" is added again at the end to print out the answer.\n",
    "\n",
    "To interact with the command line (bash), which you also have permission to do. Simply put a ! in front of the command.\n",
    "For example, if you wanted to check whether you have access to a GPU first before you run code, you would run:\n",
    "```\n",
    "!nvidia-smi\n",
    "```\n",
    "This also will return the output coming from the terminal.\n",
    "You cannot mix and match python and bash in a single call / cell.\n",
    "'''\n",
    "def spcs_code_interpreter_execute(payload: dict):\n",
    "    code = payload['code'].replace(\"'\", '\"')\n",
    "    sql = f'''SELECT MILES.SPCS_FUNCTIONS.CODE_INTERPRETER_EXECUTE('{code}') AS result;'''\n",
    "    return session.sql(sql).collect()[0].as_dict()['RESULT']\n",
    "\n",
    "\n",
    "spcs_code_interpreter_start_description = '''\n",
    "This function gives you the ability to create a python execution environment when you want to write and test code.\n",
    "Because the python environment this function creates is stateful, it can also be used to clear the environment and start fresh.\n",
    "You need to call the function atleast once before you think about calling any of the other functions that relate to python.\n",
    "'''\n",
    "def spcs_code_interpreter_start():\n",
    "    sql = f'''SELECT MILES.SPCS_FUNCTIONS.CODE_INTERPRETER_RESTART();'''\n",
    "    session.sql(spcs_code_interpreter_start()).collect()\n",
    "    return 'SUCCESFULLY STARTED/RESTARTED PYTHON ENVIRONMENT'\n",
    "\n",
    "def spcs_code_interpreter_environment():\n",
    "    sql = f'''SELECT MILES.SPCS_FUNCTIONS.CODE_INTERPRETER_ENVIRONMENT() AS result;'''\n",
    "    return session.sql(sql).collect()[0].as_dict()['RESULT']\n",
    "\n",
    "spcs_code_interpreter_environment_description = '''\n",
    "This function allows you to retrieve all of the packages that are available in the python environment that you have spun up for writing and testing code.\n",
    "You most likely only need to run this function once, right after you started the python environment.\n",
    "In case you forget what packages are available though, feel free to run this as needed.\n",
    "The main purpose of this function is to limit you to only writing code that will run properly with the given available packages.\n",
    "'''\n",
    "\n",
    "_available_functions = {\n",
    "    \"spcs_code_interpreter_start\": spcs_code_interpreter_start,\n",
    "    \"spcs_code_interpreter_execute\": spcs_code_interpreter_execute,\n",
    "    \"spcs_code_interpreter_environment\": snowflake_execute_environment,\n",
    "}\n",
    "\n",
    "_function_tool_metadata = [\n",
    "    {\"type\": \"code_interpreter\"},\n",
    "    {\"type\": \"retrieval\"},\n",
    "    {\"type\": \"function\",\n",
    "        \"function\": {\n",
    "            \"name\": \"spcs_code_interpreter_start\",\n",
    "            \"description\": spcs_code_interpreter_start_description,\n",
    "            \"parameters\": {}\n",
    "        },\n",
    "            \"required\": []\n",
    "    },\n",
    "    {\"type\": \"function\",\n",
    "        \"function\": {\n",
    "            \"name\": \"spcs_code_interpreter_execute\",\n",
    "            \"description\": spcs_code_interpreter_execute_description,\n",
    "            \"parameters\": {\n",
    "                \"type\": \"object\",\n",
    "                \"properties\": {\n",
    "                    \"code\":  {\n",
    "                        \"type\": \"string\",\n",
    "                        \"description\": \"Python code or bash/terminal commands to be executed\"},\n",
    "                    }\n",
    "            },\n",
    "            \"required\": [\"code\"]\n",
    "        }\n",
    "    },\n",
    "    {\"type\": \"function\",\n",
    "        \"function\": {\n",
    "            \"name\": \"spcs_code_interpreter_environment\",\n",
    "            \"description\": spcs_code_interpreter_environment_description,\n",
    "            \"parameters\": {}\n",
    "        },\n",
    "            \"required\": []\n",
    "    }\n",
    "]\n",
    "\n",
    "def _get_function_metadata(chosen: list) -> list:\n",
    "    tools = [d for d in _function_tool_metadata if\n",
    "             ('function' in d and d['function']['name'] in chosen) or d['type'] in chosen]\n",
    "    return tools"
   ]
  },
  {
   "cell_type": "code",
   "execution_count": 4,
   "id": "70f3785e-b7de-4eaf-b03b-d2e924b585fb",
   "metadata": {},
   "outputs": [],
   "source": [
    "name = 'spcs_code_interpreter'\n",
    "instructions = '''\n",
    "\"You are a python developer with expert knowledge about data engineer and data science.\n",
    "To do your job, you must always first create a python environment and grab the available packages, so you know what packages you have at your disposal to write code that will run.\n",
    "Then, when asked a question, write and run code to answer the question.\"\n",
    "Again, you cannot run \"spcs_code_interpreter_execute\" without first running \"spcs_code_interpreter_start\" and \"spcs_code_interpreter_environment\"\n",
    "Please always use double quotes in your code where they are interchangeable with single quotes.\n",
    "'''\n",
    "tools = [\n",
    "    'retrieval',\n",
    "    'spcs_code_interpreter_start',\n",
    "    'spcs_code_interpreter_environment',\n",
    "    'spcs_code_interpreter_execute'\n",
    "]\n",
    "\n",
    "assistant = client.beta.assistants.update(\n",
    "    assistants[0].id,\n",
    "    name=name,\n",
    "    instructions=instructions,\n",
    "    tools=_get_function_metadata(tools),\n",
    "    model=\"gpt-4-0125-preview\",\n",
    ")"
   ]
  },
  {
   "cell_type": "code",
   "execution_count": 25,
   "id": "714c8438",
   "metadata": {},
   "outputs": [],
   "source": []
  },
  {
   "cell_type": "code",
   "execution_count": null,
   "id": "6c0f60f8",
   "metadata": {},
   "outputs": [],
   "source": []
  },
  {
   "cell_type": "code",
   "execution_count": 7,
   "id": "6c281219",
   "metadata": {},
   "outputs": [
    {
     "data": {
      "text/plain": [
       "'   Column1 Column2\\n0        1       A\\n1        2       B\\n2        3       C\\n3        4       D'"
      ]
     },
     "execution_count": 7,
     "metadata": {},
     "output_type": "execute_result"
    }
   ],
   "source": []
  },
  {
   "cell_type": "code",
   "execution_count": null,
   "id": "a963de64",
   "metadata": {},
   "outputs": [],
   "source": []
  },
  {
   "cell_type": "code",
   "execution_count": 9,
   "id": "9fd3c5e9-7419-428b-8232-c734e783806d",
   "metadata": {},
   "outputs": [
    {
     "data": {
      "text/plain": [
       "'thread_uDjoFmW3J3NJQebmqJt6nDky'"
      ]
     },
     "execution_count": 9,
     "metadata": {},
     "output_type": "execute_result"
    }
   ],
   "source": [
    "thread_id = client.beta.threads.create().id\n",
    "thread_id"
   ]
  },
  {
   "cell_type": "code",
   "execution_count": 10,
   "id": "868b63e9-e29a-4cfb-9fb4-691ac15a5593",
   "metadata": {},
   "outputs": [],
   "source": [
    "thread = client.beta.threads.retrieve(thread_id)"
   ]
  },
  {
   "cell_type": "code",
   "execution_count": 11,
   "id": "4783bfec-9932-4699-b370-446be5d4ecef",
   "metadata": {},
   "outputs": [],
   "source": [
    "query = '\"I need to solve the equation `3x + 11 = 14`. Can you help me?\"'\n",
    "\n",
    "message = client.beta.threads.messages.create(\n",
    "    thread_id=thread.id,\n",
    "    role=\"user\",\n",
    "    content=query,\n",
    ")"
   ]
  },
  {
   "cell_type": "code",
   "execution_count": 12,
   "id": "b2837b0b-935b-459d-ad2b-22a0f9cbca91",
   "metadata": {},
   "outputs": [],
   "source": [
    "run = client.beta.threads.runs.create(\n",
    "    thread_id=thread.id,\n",
    "    assistant_id=assistant.id\n",
    ")"
   ]
  },
  {
   "cell_type": "code",
   "execution_count": 13,
   "id": "74ff865c",
   "metadata": {},
   "outputs": [
    {
     "data": {
      "text/plain": [
       "'run_hUZfZcHcqw05BM5hKmBQbpDd'"
      ]
     },
     "execution_count": 13,
     "metadata": {},
     "output_type": "execute_result"
    }
   ],
   "source": [
    "run.id"
   ]
  },
  {
   "cell_type": "code",
   "execution_count": 14,
   "id": "614aa9a8",
   "metadata": {},
   "outputs": [],
   "source": [
    "run = client.beta.threads.runs.retrieve(thread_id=thread.id, run_id=run.id)"
   ]
  },
  {
   "cell_type": "code",
   "execution_count": 15,
   "id": "b223e0a1",
   "metadata": {},
   "outputs": [
    {
     "data": {
      "text/plain": [
       "'requires_action'"
      ]
     },
     "execution_count": 15,
     "metadata": {},
     "output_type": "execute_result"
    }
   ],
   "source": [
    "run.status"
   ]
  },
  {
   "cell_type": "code",
   "execution_count": 16,
   "id": "c4767dd1",
   "metadata": {},
   "outputs": [],
   "source": [
    "def _get_function_details(run):\n",
    "    # print(\"\\nrun.required_action\\n\",run.required_action)\n",
    "    function_details = []\n",
    "\n",
    "    for tool_call in run.required_action.submit_tool_outputs.tool_calls:\n",
    "        function_name = tool_call.function.name\n",
    "        arguments = tool_call.function.arguments\n",
    "        function_id = tool_call.id\n",
    "        function_details.append((function_name, arguments, function_id))\n",
    "\n",
    "    # print(function_details)\n",
    "    return function_details"
   ]
  },
  {
   "cell_type": "code",
   "execution_count": 18,
   "id": "cf8f8515",
   "metadata": {},
   "outputs": [
    {
     "data": {
      "text/plain": [
       "[('spcs_code_interpreter_start', '{}', 'call_HffikUKRqakYs6B1YWDFsWJn')]"
      ]
     },
     "execution_count": 18,
     "metadata": {},
     "output_type": "execute_result"
    }
   ],
   "source": [
    "function_details = _get_function_details(run)\n",
    "function_details"
   ]
  },
  {
   "cell_type": "code",
   "execution_count": 21,
   "id": "5f499bf1",
   "metadata": {},
   "outputs": [],
   "source": [
    "import json\n",
    "def _execute_function_call(function, arguments):\n",
    "    \n",
    "    if function:\n",
    "        arguments = json.loads(arguments)\n",
    "        try:\n",
    "            results = function(**arguments)\n",
    "        except Exception as e:\n",
    "            results = f\"\"\"Failed to execute the code because of error \n",
    "                <error>\n",
    "                {str(e)}\n",
    "                </error>\n",
    "                Please fix the <error> and retry\"\"\"\n",
    "    else:\n",
    "        results = f\"Error: function {function_name} does not exist\"\n",
    "    return results"
   ]
  },
  {
   "cell_type": "code",
   "execution_count": 23,
   "id": "d575b2a5",
   "metadata": {},
   "outputs": [
    {
     "data": {
      "text/plain": [
       "[('call_HffikUKRqakYs6B1YWDFsWJn',\n",
       "  \"Failed to execute the code because of error \\n                <error>\\n                'str' object is not callable\\n                </error>\\n                Please fix the <error> and retry\")]"
      ]
     },
     "execution_count": 23,
     "metadata": {},
     "output_type": "execute_result"
    }
   ],
   "source": [
    "responses = []\n",
    "for funct_call in function_details:\n",
    "    function_response = _execute_function_call(funct_call[0], funct_call[1])\n",
    "    # print(f\"{funct_call[0]}({funct_call[1]}) -> {function_response}\")\n",
    "    responses.append((funct_call[2], function_response))\n",
    "responses"
   ]
  },
  {
   "cell_type": "code",
   "execution_count": 24,
   "id": "f4ed8273",
   "metadata": {},
   "outputs": [
    {
     "data": {
      "text/plain": [
       "<function __main__.spcs_code_interpreter_start()>"
      ]
     },
     "execution_count": 24,
     "metadata": {},
     "output_type": "execute_result"
    }
   ],
   "source": [
    "spcs_code_interpreter_start"
   ]
  },
  {
   "cell_type": "code",
   "execution_count": null,
   "id": "82f9f9fa",
   "metadata": {},
   "outputs": [],
   "source": [
    "run = _submit_tool_outputs(run, thread, responses)\n",
    "continue"
   ]
  }
 ],
 "metadata": {
  "kernelspec": {
   "display_name": "Python 3 (ipykernel)",
   "language": "python",
   "name": "python3"
  },
  "language_info": {
   "codemirror_mode": {
    "name": "ipython",
    "version": 3
   },
   "file_extension": ".py",
   "mimetype": "text/x-python",
   "name": "python",
   "nbconvert_exporter": "python",
   "pygments_lexer": "ipython3",
   "version": "3.9.16"
  }
 },
 "nbformat": 4,
 "nbformat_minor": 5
}
