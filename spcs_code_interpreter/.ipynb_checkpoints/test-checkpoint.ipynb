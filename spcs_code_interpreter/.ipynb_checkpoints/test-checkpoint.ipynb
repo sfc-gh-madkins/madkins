{
 "cells": [
  {
   "cell_type": "code",
   "execution_count": 1,
   "id": "a2ea721e-f7ad-4764-85e8-71210110675c",
   "metadata": {},
   "outputs": [],
   "source": [
    "import openai"
   ]
  },
  {
   "cell_type": "code",
   "execution_count": 3,
   "id": "3475dafa-b662-41aa-8961-094a9ca424c2",
   "metadata": {},
   "outputs": [],
   "source": [
    "client = openai.OpenAI()"
   ]
  },
  {
   "cell_type": "code",
   "execution_count": 9,
   "id": "0d410415-2d17-422c-995d-8f19d5a31cc2",
   "metadata": {},
   "outputs": [
    {
     "data": {
      "text/plain": [
       "SyncCursorPage[Assistant](data=[Assistant(id='asst_5qH0lIHN1DXjsNhcW0v4fvvu', created_at=1701010931, description=None, file_ids=[], instructions='You are a helpful assistant', metadata={}, model='gpt-4-1106-preview', name='test', object='assistant', tools=[ToolCodeInterpreter(type='code_interpreter'), ToolRetrieval(type='retrieval'), ToolFunction(function=FunctionDefinition(name='get_stock_price', description='Get the current stock price', parameters={'type': 'object', 'properties': {'symbol': {'type': 'string', 'description': 'The stock symbol'}}, 'required': ['symbol']}), type='function'), ToolFunction(function=FunctionDefinition(name='get_weather', description='Determine weather in my location', parameters={'type': 'object', 'properties': {'location': {'type': 'string', 'description': 'The city and state e.g. San Francisco, CA'}, 'unit': {'type': 'string', 'enum': ['c', 'f']}}, 'required': ['location']}), type='function')]), Assistant(id='asst_20Amjz0EI0Jr1brNHGsb87at', created_at=1700766205, description=None, file_ids=[], instructions=None, metadata={}, model='gpt-4-1106-preview', name=None, object='assistant', tools=[])], object='list', first_id='asst_5qH0lIHN1DXjsNhcW0v4fvvu', last_id='asst_20Amjz0EI0Jr1brNHGsb87at', has_more=False)"
      ]
     },
     "execution_count": 9,
     "metadata": {},
     "output_type": "execute_result"
    }
   ],
   "source": [
    "my_assistants = client.beta.assistants.list(\n",
    "    order=\"desc\",\n",
    "    limit=\"20\",\n",
    ")\n",
    "my_assistants"
   ]
  },
  {
   "cell_type": "code",
   "execution_count": 10,
   "id": "3544124f-ca54-47fa-9b33-34fb1cc0f2fe",
   "metadata": {},
   "outputs": [],
   "source": [
    "_function_tool_metadata = [\n",
    "    {\"type\": \"code_interpreter\"},\n",
    "    {\"type\": \"retrieval\"},\n",
    "    {\"type\": \"function\",\n",
    "                \"function\": {\n",
    "                    \"name\": \"store_in_knowledge_base\",\n",
    "                    \"description\": \"Stores knowledge in your Elsa knowledge base that you, Elsa, may need in the future to perform your tasks in a smarter or more efficient manner.  You should ALWAYS PROACTIVELY use this tool (without the user needing to ask you to) to store ANY and ALL knowledge that you learn while talking to user or performing your tasks that would be of assistance to you in a future separate thread if faced with a similar task, problem, or challenge.\",\n",
    "                    \"parameters\": {\n",
    "                        \"type\": \"object\",\n",
    "                        \"properties\": {\n",
    "                            \"scope\":  {\"type\": \"string\", \"description\": \"'general' for knowledge that is relevant to any database or schema, not just the current one, and 'database' for knowledge that is relevent only to the current database and/or schema\"},\n",
    "                            \"knowledgetext\":  {\"type\": \"string\", \"description\": \"A full but concise message to your future self running in another thread later, to help you solve a similar problem or need to perform a similar task again in the future, so you can read it and perform in a more efficient manner.\"},\n",
    "                        }\n",
    "                    },\n",
    "                    \"required\": [\"scope\", \"knowledgetext\"]\n",
    "                }},\n",
    "    {\"type\": \"function\",\n",
    "                \"function\": {\n",
    "                    \"name\": \"search_knowledge_base\",\n",
    "                    \"description\": \"Searches your Elsa knowledge base for any notes you may have left yourself in the past in past threads, if you have faced a similar task, problem, or challenge. Always search the Elsa knowledge base if you are unsure how to solve a problem, or if you are otherwise going to tell the user that you can't do something.\",\n",
    "                    \"parameters\": {\n",
    "                        \"type\": \"object\",\n",
    "                        \"properties\": {\n",
    "                            \"query\":  {\"type\": \"string\", \"description\": \"A short statement of the problem you are trying to solve, or the information you are seeking from your Elsa knowledge base.\"},\n",
    "                        }\n",
    "                    },\n",
    "                    \"required\": [\"query\"]\n",
    "                }},\n",
    "    {\"type\": \"function\",\n",
    "     \"function\": {\n",
    "         \"name\": \"snowflake_snowscope\",\n",
    "         \"description\": \"search for database schemas, tables, and columns in Snowflake.   Note that only some, but not necessarilly all related tables and columns are returned by this call. The output of this tool may be incomplete, but output you do get is correct and trustworty. This tool is powered by a search index.  Note that this tool does not provide search of the underlying data, just the schemas, tables, and column metdata.\",\n",
    "         \"parameters\": {\n",
    "             \"type\": \"object\",\n",
    "             \"properties\": {\n",
    "                 \"prompt\": {\"type\": \"string\",\n",
    "                            \"description\": \"A search query for the kind of schema, table, or column you're looking for in Snowflake.\"},\n",
    "                 \"schema\": {\"type\": \"string\",\n",
    "                            \"description\": \"The database schema to limit Snowscope to search. Useful when trying to find things in a particular schema.\"},\n",
    "                 \"n_tab\": {\"type\": \"integer\",\n",
    "                           \"description\": \"The number of tables to include in the response. Note the max is 50. It's usually good to ask for at least 5 or 10, as the first result isn't always the best.\"},\n",
    "                 \"n_col\": {\"type\": \"integer\",\n",
    "                           \"description\": \"The number of column names to include in the response for each table. Use 0 if you don't need column information. If you do need column information, set this parameter between 20 and 100.  Note that tables have more than 20 columns. \"},\n",
    "                 \"n_tab_start\": {\"type\": \"integer\",\n",
    "                                 \"description\": \"Which table results number to start at. The default is 1.\"},\n",
    "                 \"n_col_start\": {\"type\": \"integer\",\n",
    "                                 \"description\": \"Which column number result to start at. The default is 1.\"}\n",
    "             }\n",
    "         },\n",
    "         \"required\": [\"prompt\"]\n",
    "     }},\n",
    "    {\"type\": \"function\",\n",
    "     \"function\": {\n",
    "         \"name\": \"snowflake_copilot\",\n",
    "         \"description\": \"generate SQL code to run in Snowflake from a natural language prompt. Call snowflake_snowscope first to find the database and schema. Note that this tool is AI-powered and can sometimes makes mistakes.\",\n",
    "         \"parameters\": {\n",
    "             \"type\": \"object\",\n",
    "             \"properties\": {\n",
    "                 \"database_name\": {\"type\": \"string\",\n",
    "                                   \"description\": \"Name of the Snowflake database to generate SQL for.\"},\n",
    "                 \"database_schema_name\": {\"type\": \"string\",\n",
    "                                          \"description\": \"Name of the Snowflake schema to generate SQL for.\"},\n",
    "                 \"prompt\": {\"type\": \"string\",\n",
    "                            \"description\": \"natural language question to be answered by the generated SQL\"}\n",
    "             },\n",
    "         },\n",
    "         \"required\": [\"database_name\", \"database_schema_name\", \"prompt\"]\n",
    "     }},\n",
    "    {\"type\": \"function\",\n",
    "     \"function\": {\n",
    "         \"name\": \"snowflake_execute_sql\",\n",
    "         \"description\": \"Execute query on Snowflake and return the results.\",\n",
    "         \"parameters\": {\n",
    "             \"type\": \"object\",\n",
    "             \"properties\": {\n",
    "                 \"query\": {\"type\": \"string\", \"description\": \"SQL query to execute\"},\n",
    "                 \"database\": {\"type\": \"string\", \"description\": \"Name of the Snowflake database to run SQL in.\"},\n",
    "                 \"schema\": {\"type\": \"string\", \"description\": \"Name of the Snowflake schema to run SQL in\"},\n",
    "                 \"max_rows_returned\": {\"type\": \"integer\",\n",
    "                                       \"description\": \"Maximum number of rows to return (up to 100)\"},\n",
    "                 \"max_cols_returned\": {\"type\": \"integer\",\n",
    "                                       \"description\": \"Maximum number of columns to return (up to 50)\"},\n",
    "                 \"timeout\": {\"type\": \"integer\", \"description\": \"Maximum seconds to wait for results (up to 600)\"}\n",
    "             },\n",
    "         },\n",
    "         \"required\": [\"database\", \"schema\", \"query\"]\n",
    "     }},\n",
    "    {\"type\": \"function\",\n",
    "     \"function\": {\n",
    "         \"name\": \"openai_vision_analyze\",\n",
    "         \"description\": \"Analyze contents of an image.\",\n",
    "         \"parameters\": {\n",
    "             \"type\": \"object\",\n",
    "             \"properties\": {\n",
    "                 # \"base64_image\": {\"type\": \"string\", \"description\": \"base64 encoded data of a JPEG image. don't send the file_id, please send the encoded image via base64.b64encode(image_file.read()).decode('utf-8')\"},\n",
    "                 \"image_data\": {\"type\": \"string\", \"description\": \"binary image JPEG data as encoded a string\"}\n",
    "             },\n",
    "         },\n",
    "         \"required\": [\"image_data\"]\n",
    "     }},\n",
    "    {\"type\": \"function\",\n",
    "     \"function\": {\n",
    "         \"name\": \"openai_image_produce\",\n",
    "         \"description\": \"Generate an image for specified prompt.\",\n",
    "         \"parameters\": {\n",
    "             \"type\": \"object\",\n",
    "             \"properties\": {\n",
    "                 \"prompt\": {\"type\": \"string\", \"description\": \"detailed description of the image we want to produce\"}\n",
    "             },\n",
    "         },\n",
    "         \"required\": [\"prompt\"]\n",
    "     }},\n",
    "]"
   ]
  },
  {
   "cell_type": "code",
   "execution_count": 119,
   "id": "db7c2b87-fc31-4b61-a043-14de9248c38b",
   "metadata": {},
   "outputs": [],
   "source": [
    "def _get_function_metadata(chosen: list) -> list:\n",
    "    tools = [d for d in _function_tool_metadata if\n",
    "             ('function' in d and d['function']['name'] in chosen) or d['type'] in chosen]\n",
    "    return tools\n",
    "\n",
    "def _get_function_details(run):\n",
    "    # print(\"\\nrun.required_action\\n\",run.required_action)\n",
    "    function_details = []\n",
    "\n",
    "    for tool_call in run.required_action.submit_tool_outputs.tool_calls:\n",
    "        function_name = tool_call.function.name\n",
    "        arguments = tool_call.function.arguments\n",
    "        function_id = tool_call.id\n",
    "        function_details.append((function_name, arguments, function_id))\n",
    "\n",
    "    # print(function_details)\n",
    "    return function_details"
   ]
  },
  {
   "cell_type": "code",
   "execution_count": 15,
   "id": "2b5b19bf-0a65-478a-bd26-5751e41b5d5b",
   "metadata": {},
   "outputs": [],
   "source": [
    "tools = ['code_interpreter']"
   ]
  },
  {
   "cell_type": "code",
   "execution_count": 21,
   "id": "7b3511e7-7f18-44d6-ac7f-e29b7918ddef",
   "metadata": {},
   "outputs": [],
   "source": [
    "name = 'spcs_code_interpreter'\n",
    "instructions = '\"You are a personal math tutor. When asked a math question, write and run code to answer the question.\"'"
   ]
  },
  {
   "cell_type": "code",
   "execution_count": 23,
   "id": "70f3785e-b7de-4eaf-b03b-d2e924b585fb",
   "metadata": {},
   "outputs": [],
   "source": [
    "assistant = client.beta.assistants.create(\n",
    "    name=name,\n",
    "    instructions=instructions,\n",
    "    tools=_get_function_metadata(tools),\n",
    "    model=\"gpt-4-1106-preview\",\n",
    ")"
   ]
  },
  {
   "cell_type": "code",
   "execution_count": 93,
   "id": "9fd3c5e9-7419-428b-8232-c734e783806d",
   "metadata": {},
   "outputs": [
    {
     "data": {
      "text/plain": [
       "'thread_404t6l0tt28u0ydPvTjA6U0O'"
      ]
     },
     "execution_count": 93,
     "metadata": {},
     "output_type": "execute_result"
    }
   ],
   "source": [
    "thread_id = client.beta.threads.create().id\n",
    "thread_id"
   ]
  },
  {
   "cell_type": "code",
   "execution_count": 94,
   "id": "868b63e9-e29a-4cfb-9fb4-691ac15a5593",
   "metadata": {},
   "outputs": [],
   "source": [
    "thread = client.beta.threads.retrieve(thread_id)"
   ]
  },
  {
   "cell_type": "code",
   "execution_count": 95,
   "id": "4783bfec-9932-4699-b370-446be5d4ecef",
   "metadata": {},
   "outputs": [],
   "source": [
    "query = '\"I need to solve the equation `3x + 11 = 14`. Can you help me?\"'\n",
    "\n",
    "message = client.beta.threads.messages.create(\n",
    "    thread_id=thread.id,\n",
    "    role=\"user\",\n",
    "    content=query,\n",
    ")"
   ]
  },
  {
   "cell_type": "code",
   "execution_count": 96,
   "id": "b2837b0b-935b-459d-ad2b-22a0f9cbca91",
   "metadata": {},
   "outputs": [],
   "source": [
    "run = client.beta.threads.runs.create(\n",
    "    thread_id=thread.id,\n",
    "    assistant_id=assistant.id\n",
    ")"
   ]
  },
  {
   "cell_type": "code",
   "execution_count": 97,
   "id": "ba04ed88-863e-4f68-824b-4025970d530d",
   "metadata": {},
   "outputs": [],
   "source": [
    "_thread_run_map = {}"
   ]
  },
  {
   "cell_type": "code",
   "execution_count": 98,
   "id": "fdf90dc7-06e1-4d3a-8d93-aa86a1296c14",
   "metadata": {},
   "outputs": [],
   "source": [
    "_thread_run_map[thread.id] = {\"run\": run.id, \"completed_at\": None}"
   ]
  },
  {
   "cell_type": "code",
   "execution_count": 106,
   "id": "90160985-4552-4d35-848c-3bad1a0c654f",
   "metadata": {},
   "outputs": [
    {
     "data": {
      "text/plain": [
       "'completed'"
      ]
     },
     "execution_count": 106,
     "metadata": {},
     "output_type": "execute_result"
    }
   ],
   "source": [
    "run = client.beta.threads.runs.retrieve(thread_id=thread.id, run_id=_thread_run_map[thread.id][\"run\"])\n",
    "run.status"
   ]
  },
  {
   "cell_type": "code",
   "execution_count": 108,
   "id": "d3b3e750-85de-4034-818d-edd5bb97af9f",
   "metadata": {},
   "outputs": [],
   "source": [
    "messages = client.beta.threads.messages.list(thread_id=thread.id)\n",
    "latest_message = messages.data[0]"
   ]
  },
  {
   "cell_type": "code",
   "execution_count": 109,
   "id": "c308e195-15f7-47e9-8a22-7c400d9e89de",
   "metadata": {},
   "outputs": [
    {
     "name": "stdout",
     "output_type": "stream",
     "text": [
      "The solution to the equation \\(3x + 11 = 14\\) is \\(x = 1\\).\n"
     ]
    }
   ],
   "source": [
    "print(latest_message.content[0].text.value)"
   ]
  },
  {
   "cell_type": "code",
   "execution_count": 110,
   "id": "5c3bb1ee-83fa-4dea-87f7-fd801c49ef5a",
   "metadata": {},
   "outputs": [
    {
     "data": {
      "text/plain": [
       "SyncCursorPage[ThreadMessage](data=[ThreadMessage(id='msg_LdmsmszggaZeodmVuwUFdEDv', assistant_id='asst_9QvERWRqtUVXDKCJVuBxLGyu', content=[MessageContentText(text=Text(annotations=[], value='The solution to the equation \\\\(3x + 11 = 14\\\\) is \\\\(x = 1\\\\).'), type='text')], created_at=1703657177, file_ids=[], metadata={}, object='thread.message', role='assistant', run_id='run_BDG9QWuakI72C8d4gZtASeOp', thread_id='thread_404t6l0tt28u0ydPvTjA6U0O'), ThreadMessage(id='msg_nYzAnQRU3tqQHX8OU09qQxr9', assistant_id=None, content=[MessageContentText(text=Text(annotations=[], value='\"I need to solve the equation `3x + 11 = 14`. Can you help me?\"'), type='text')], created_at=1703657161, file_ids=[], metadata={}, object='thread.message', role='user', run_id=None, thread_id='thread_404t6l0tt28u0ydPvTjA6U0O')], object='list', first_id='msg_LdmsmszggaZeodmVuwUFdEDv', last_id='msg_nYzAnQRU3tqQHX8OU09qQxr9', has_more=False)"
      ]
     },
     "execution_count": 110,
     "metadata": {},
     "output_type": "execute_result"
    }
   ],
   "source": [
    "messages"
   ]
  },
  {
   "cell_type": "code",
   "execution_count": null,
   "id": "d3522b32-9a56-47f5-af37-df0e353aa14f",
   "metadata": {},
   "outputs": [],
   "source": []
  },
  {
   "cell_type": "code",
   "execution_count": null,
   "id": "2d4a24b7-c178-4b65-9fc2-5885386904c2",
   "metadata": {},
   "outputs": [],
   "source": []
  },
  {
   "cell_type": "code",
   "execution_count": null,
   "id": "7da85545-764b-4771-92e7-c7920fa315f3",
   "metadata": {},
   "outputs": [],
   "source": []
  },
  {
   "cell_type": "code",
   "execution_count": 111,
   "id": "d2b49541-a6a4-43da-8c46-be331e32b91b",
   "metadata": {},
   "outputs": [],
   "source": [
    "assistant = client.beta.assistants.create(\n",
    "  instructions=\"You are a weather bot. Use the provided functions to answer questions.\",\n",
    "  model=\"gpt-4-1106-preview\",\n",
    "  tools=[{\n",
    "      \"type\": \"function\",\n",
    "    \"function\": {\n",
    "      \"name\": \"getCurrentWeather\",\n",
    "      \"description\": \"Get the weather in location\",\n",
    "      \"parameters\": {\n",
    "        \"type\": \"object\",\n",
    "        \"properties\": {\n",
    "          \"location\": {\"type\": \"string\", \"description\": \"The city and state e.g. San Francisco, CA\"},\n",
    "          \"unit\": {\"type\": \"string\", \"enum\": [\"c\", \"f\"]}\n",
    "        },\n",
    "        \"required\": [\"location\"]\n",
    "      }\n",
    "    }\n",
    "  }, {\n",
    "    \"type\": \"function\",\n",
    "    \"function\": {\n",
    "      \"name\": \"getNickname\",\n",
    "      \"description\": \"Get the nickname of a city\",\n",
    "      \"parameters\": {\n",
    "        \"type\": \"object\",\n",
    "        \"properties\": {\n",
    "          \"location\": {\"type\": \"string\", \"description\": \"The city and state e.g. San Francisco, CA\"},\n",
    "        },\n",
    "        \"required\": [\"location\"]\n",
    "      }\n",
    "    } \n",
    "  }]\n",
    ")"
   ]
  },
  {
   "cell_type": "code",
   "execution_count": 113,
   "id": "4e8ae60a-7f8c-4758-b31f-9f317bcf35eb",
   "metadata": {},
   "outputs": [],
   "source": [
    "thread_id = client.beta.threads.create().id\n",
    "thread = client.beta.threads.retrieve(thread_id)\n",
    "\n",
    "query = '\"What is the weather in San Francisco?\"'\n",
    "\n",
    "message = client.beta.threads.messages.create(\n",
    "    thread_id=thread.id,\n",
    "    role=\"user\",\n",
    "    content=query,\n",
    ")"
   ]
  },
  {
   "cell_type": "code",
   "execution_count": 124,
   "id": "95f02367-ad65-4962-b702-57d29368ba10",
   "metadata": {
    "scrolled": true
   },
   "outputs": [
    {
     "ename": "BadRequestError",
     "evalue": "Error code: 400 - {'error': {'message': 'Thread thread_XDTsn0Z4dM3tl1vRJ3xmdcmh already has an active run run_PrVE7dcVZyl7DAtIuYzD2Ewd.', 'type': 'invalid_request_error', 'param': None, 'code': None}}",
     "output_type": "error",
     "traceback": [
      "\u001b[0;31m---------------------------------------------------------------------------\u001b[0m",
      "\u001b[0;31mBadRequestError\u001b[0m                           Traceback (most recent call last)",
      "Cell \u001b[0;32mIn[124], line 1\u001b[0m\n\u001b[0;32m----> 1\u001b[0m run \u001b[38;5;241m=\u001b[39m \u001b[43mclient\u001b[49m\u001b[38;5;241;43m.\u001b[39;49m\u001b[43mbeta\u001b[49m\u001b[38;5;241;43m.\u001b[39;49m\u001b[43mthreads\u001b[49m\u001b[38;5;241;43m.\u001b[39;49m\u001b[43mruns\u001b[49m\u001b[38;5;241;43m.\u001b[39;49m\u001b[43mcreate\u001b[49m\u001b[43m(\u001b[49m\n\u001b[1;32m      2\u001b[0m \u001b[43m    \u001b[49m\u001b[43mthread_id\u001b[49m\u001b[38;5;241;43m=\u001b[39;49m\u001b[43mthread\u001b[49m\u001b[38;5;241;43m.\u001b[39;49m\u001b[43mid\u001b[49m\u001b[43m,\u001b[49m\n\u001b[1;32m      3\u001b[0m \u001b[43m    \u001b[49m\u001b[43massistant_id\u001b[49m\u001b[38;5;241;43m=\u001b[39;49m\u001b[43massistant\u001b[49m\u001b[38;5;241;43m.\u001b[39;49m\u001b[43mid\u001b[49m\n\u001b[1;32m      4\u001b[0m \u001b[43m)\u001b[49m\n",
      "File \u001b[0;32m~/.pyenv/versions/3.9.16/envs/spcs_code_interpreter/lib/python3.9/site-packages/openai/resources/beta/threads/runs/runs.py:95\u001b[0m, in \u001b[0;36mRuns.create\u001b[0;34m(self, thread_id, assistant_id, additional_instructions, instructions, metadata, model, tools, extra_headers, extra_query, extra_body, timeout)\u001b[0m\n\u001b[1;32m     57\u001b[0m \u001b[38;5;250m\u001b[39m\u001b[38;5;124;03m\"\"\"\u001b[39;00m\n\u001b[1;32m     58\u001b[0m \u001b[38;5;124;03mCreate a run.\u001b[39;00m\n\u001b[1;32m     59\u001b[0m \n\u001b[0;32m   (...)\u001b[0m\n\u001b[1;32m     92\u001b[0m \u001b[38;5;124;03m  timeout: Override the client-level default timeout for this request, in seconds\u001b[39;00m\n\u001b[1;32m     93\u001b[0m \u001b[38;5;124;03m\"\"\"\u001b[39;00m\n\u001b[1;32m     94\u001b[0m extra_headers \u001b[38;5;241m=\u001b[39m {\u001b[38;5;124m\"\u001b[39m\u001b[38;5;124mOpenAI-Beta\u001b[39m\u001b[38;5;124m\"\u001b[39m: \u001b[38;5;124m\"\u001b[39m\u001b[38;5;124massistants=v1\u001b[39m\u001b[38;5;124m\"\u001b[39m, \u001b[38;5;241m*\u001b[39m\u001b[38;5;241m*\u001b[39m(extra_headers \u001b[38;5;129;01mor\u001b[39;00m {})}\n\u001b[0;32m---> 95\u001b[0m \u001b[38;5;28;01mreturn\u001b[39;00m \u001b[38;5;28;43mself\u001b[39;49m\u001b[38;5;241;43m.\u001b[39;49m\u001b[43m_post\u001b[49m\u001b[43m(\u001b[49m\n\u001b[1;32m     96\u001b[0m \u001b[43m    \u001b[49m\u001b[38;5;124;43mf\u001b[39;49m\u001b[38;5;124;43m\"\u001b[39;49m\u001b[38;5;124;43m/threads/\u001b[39;49m\u001b[38;5;132;43;01m{\u001b[39;49;00m\u001b[43mthread_id\u001b[49m\u001b[38;5;132;43;01m}\u001b[39;49;00m\u001b[38;5;124;43m/runs\u001b[39;49m\u001b[38;5;124;43m\"\u001b[39;49m\u001b[43m,\u001b[49m\n\u001b[1;32m     97\u001b[0m \u001b[43m    \u001b[49m\u001b[43mbody\u001b[49m\u001b[38;5;241;43m=\u001b[39;49m\u001b[43mmaybe_transform\u001b[49m\u001b[43m(\u001b[49m\n\u001b[1;32m     98\u001b[0m \u001b[43m        \u001b[49m\u001b[43m{\u001b[49m\n\u001b[1;32m     99\u001b[0m \u001b[43m            \u001b[49m\u001b[38;5;124;43m\"\u001b[39;49m\u001b[38;5;124;43massistant_id\u001b[39;49m\u001b[38;5;124;43m\"\u001b[39;49m\u001b[43m:\u001b[49m\u001b[43m \u001b[49m\u001b[43massistant_id\u001b[49m\u001b[43m,\u001b[49m\n\u001b[1;32m    100\u001b[0m \u001b[43m            \u001b[49m\u001b[38;5;124;43m\"\u001b[39;49m\u001b[38;5;124;43madditional_instructions\u001b[39;49m\u001b[38;5;124;43m\"\u001b[39;49m\u001b[43m:\u001b[49m\u001b[43m \u001b[49m\u001b[43madditional_instructions\u001b[49m\u001b[43m,\u001b[49m\n\u001b[1;32m    101\u001b[0m \u001b[43m            \u001b[49m\u001b[38;5;124;43m\"\u001b[39;49m\u001b[38;5;124;43minstructions\u001b[39;49m\u001b[38;5;124;43m\"\u001b[39;49m\u001b[43m:\u001b[49m\u001b[43m \u001b[49m\u001b[43minstructions\u001b[49m\u001b[43m,\u001b[49m\n\u001b[1;32m    102\u001b[0m \u001b[43m            \u001b[49m\u001b[38;5;124;43m\"\u001b[39;49m\u001b[38;5;124;43mmetadata\u001b[39;49m\u001b[38;5;124;43m\"\u001b[39;49m\u001b[43m:\u001b[49m\u001b[43m \u001b[49m\u001b[43mmetadata\u001b[49m\u001b[43m,\u001b[49m\n\u001b[1;32m    103\u001b[0m \u001b[43m            \u001b[49m\u001b[38;5;124;43m\"\u001b[39;49m\u001b[38;5;124;43mmodel\u001b[39;49m\u001b[38;5;124;43m\"\u001b[39;49m\u001b[43m:\u001b[49m\u001b[43m \u001b[49m\u001b[43mmodel\u001b[49m\u001b[43m,\u001b[49m\n\u001b[1;32m    104\u001b[0m \u001b[43m            \u001b[49m\u001b[38;5;124;43m\"\u001b[39;49m\u001b[38;5;124;43mtools\u001b[39;49m\u001b[38;5;124;43m\"\u001b[39;49m\u001b[43m:\u001b[49m\u001b[43m \u001b[49m\u001b[43mtools\u001b[49m\u001b[43m,\u001b[49m\n\u001b[1;32m    105\u001b[0m \u001b[43m        \u001b[49m\u001b[43m}\u001b[49m\u001b[43m,\u001b[49m\n\u001b[1;32m    106\u001b[0m \u001b[43m        \u001b[49m\u001b[43mrun_create_params\u001b[49m\u001b[38;5;241;43m.\u001b[39;49m\u001b[43mRunCreateParams\u001b[49m\u001b[43m,\u001b[49m\n\u001b[1;32m    107\u001b[0m \u001b[43m    \u001b[49m\u001b[43m)\u001b[49m\u001b[43m,\u001b[49m\n\u001b[1;32m    108\u001b[0m \u001b[43m    \u001b[49m\u001b[43moptions\u001b[49m\u001b[38;5;241;43m=\u001b[39;49m\u001b[43mmake_request_options\u001b[49m\u001b[43m(\u001b[49m\n\u001b[1;32m    109\u001b[0m \u001b[43m        \u001b[49m\u001b[43mextra_headers\u001b[49m\u001b[38;5;241;43m=\u001b[39;49m\u001b[43mextra_headers\u001b[49m\u001b[43m,\u001b[49m\u001b[43m \u001b[49m\u001b[43mextra_query\u001b[49m\u001b[38;5;241;43m=\u001b[39;49m\u001b[43mextra_query\u001b[49m\u001b[43m,\u001b[49m\u001b[43m \u001b[49m\u001b[43mextra_body\u001b[49m\u001b[38;5;241;43m=\u001b[39;49m\u001b[43mextra_body\u001b[49m\u001b[43m,\u001b[49m\u001b[43m \u001b[49m\u001b[43mtimeout\u001b[49m\u001b[38;5;241;43m=\u001b[39;49m\u001b[43mtimeout\u001b[49m\n\u001b[1;32m    110\u001b[0m \u001b[43m    \u001b[49m\u001b[43m)\u001b[49m\u001b[43m,\u001b[49m\n\u001b[1;32m    111\u001b[0m \u001b[43m    \u001b[49m\u001b[43mcast_to\u001b[49m\u001b[38;5;241;43m=\u001b[39;49m\u001b[43mRun\u001b[49m\u001b[43m,\u001b[49m\n\u001b[1;32m    112\u001b[0m \u001b[43m\u001b[49m\u001b[43m)\u001b[49m\n",
      "File \u001b[0;32m~/.pyenv/versions/3.9.16/envs/spcs_code_interpreter/lib/python3.9/site-packages/openai/_base_client.py:1088\u001b[0m, in \u001b[0;36mSyncAPIClient.post\u001b[0;34m(self, path, cast_to, body, options, files, stream, stream_cls)\u001b[0m\n\u001b[1;32m   1074\u001b[0m \u001b[38;5;28;01mdef\u001b[39;00m \u001b[38;5;21mpost\u001b[39m(\n\u001b[1;32m   1075\u001b[0m     \u001b[38;5;28mself\u001b[39m,\n\u001b[1;32m   1076\u001b[0m     path: \u001b[38;5;28mstr\u001b[39m,\n\u001b[0;32m   (...)\u001b[0m\n\u001b[1;32m   1083\u001b[0m     stream_cls: \u001b[38;5;28mtype\u001b[39m[_StreamT] \u001b[38;5;241m|\u001b[39m \u001b[38;5;28;01mNone\u001b[39;00m \u001b[38;5;241m=\u001b[39m \u001b[38;5;28;01mNone\u001b[39;00m,\n\u001b[1;32m   1084\u001b[0m ) \u001b[38;5;241m-\u001b[39m\u001b[38;5;241m>\u001b[39m ResponseT \u001b[38;5;241m|\u001b[39m _StreamT:\n\u001b[1;32m   1085\u001b[0m     opts \u001b[38;5;241m=\u001b[39m FinalRequestOptions\u001b[38;5;241m.\u001b[39mconstruct(\n\u001b[1;32m   1086\u001b[0m         method\u001b[38;5;241m=\u001b[39m\u001b[38;5;124m\"\u001b[39m\u001b[38;5;124mpost\u001b[39m\u001b[38;5;124m\"\u001b[39m, url\u001b[38;5;241m=\u001b[39mpath, json_data\u001b[38;5;241m=\u001b[39mbody, files\u001b[38;5;241m=\u001b[39mto_httpx_files(files), \u001b[38;5;241m*\u001b[39m\u001b[38;5;241m*\u001b[39moptions\n\u001b[1;32m   1087\u001b[0m     )\n\u001b[0;32m-> 1088\u001b[0m     \u001b[38;5;28;01mreturn\u001b[39;00m cast(ResponseT, \u001b[38;5;28;43mself\u001b[39;49m\u001b[38;5;241;43m.\u001b[39;49m\u001b[43mrequest\u001b[49m\u001b[43m(\u001b[49m\u001b[43mcast_to\u001b[49m\u001b[43m,\u001b[49m\u001b[43m \u001b[49m\u001b[43mopts\u001b[49m\u001b[43m,\u001b[49m\u001b[43m \u001b[49m\u001b[43mstream\u001b[49m\u001b[38;5;241;43m=\u001b[39;49m\u001b[43mstream\u001b[49m\u001b[43m,\u001b[49m\u001b[43m \u001b[49m\u001b[43mstream_cls\u001b[49m\u001b[38;5;241;43m=\u001b[39;49m\u001b[43mstream_cls\u001b[49m\u001b[43m)\u001b[49m)\n",
      "File \u001b[0;32m~/.pyenv/versions/3.9.16/envs/spcs_code_interpreter/lib/python3.9/site-packages/openai/_base_client.py:853\u001b[0m, in \u001b[0;36mSyncAPIClient.request\u001b[0;34m(self, cast_to, options, remaining_retries, stream, stream_cls)\u001b[0m\n\u001b[1;32m    844\u001b[0m \u001b[38;5;28;01mdef\u001b[39;00m \u001b[38;5;21mrequest\u001b[39m(\n\u001b[1;32m    845\u001b[0m     \u001b[38;5;28mself\u001b[39m,\n\u001b[1;32m    846\u001b[0m     cast_to: Type[ResponseT],\n\u001b[0;32m   (...)\u001b[0m\n\u001b[1;32m    851\u001b[0m     stream_cls: \u001b[38;5;28mtype\u001b[39m[_StreamT] \u001b[38;5;241m|\u001b[39m \u001b[38;5;28;01mNone\u001b[39;00m \u001b[38;5;241m=\u001b[39m \u001b[38;5;28;01mNone\u001b[39;00m,\n\u001b[1;32m    852\u001b[0m ) \u001b[38;5;241m-\u001b[39m\u001b[38;5;241m>\u001b[39m ResponseT \u001b[38;5;241m|\u001b[39m _StreamT:\n\u001b[0;32m--> 853\u001b[0m     \u001b[38;5;28;01mreturn\u001b[39;00m \u001b[38;5;28;43mself\u001b[39;49m\u001b[38;5;241;43m.\u001b[39;49m\u001b[43m_request\u001b[49m\u001b[43m(\u001b[49m\n\u001b[1;32m    854\u001b[0m \u001b[43m        \u001b[49m\u001b[43mcast_to\u001b[49m\u001b[38;5;241;43m=\u001b[39;49m\u001b[43mcast_to\u001b[49m\u001b[43m,\u001b[49m\n\u001b[1;32m    855\u001b[0m \u001b[43m        \u001b[49m\u001b[43moptions\u001b[49m\u001b[38;5;241;43m=\u001b[39;49m\u001b[43moptions\u001b[49m\u001b[43m,\u001b[49m\n\u001b[1;32m    856\u001b[0m \u001b[43m        \u001b[49m\u001b[43mstream\u001b[49m\u001b[38;5;241;43m=\u001b[39;49m\u001b[43mstream\u001b[49m\u001b[43m,\u001b[49m\n\u001b[1;32m    857\u001b[0m \u001b[43m        \u001b[49m\u001b[43mstream_cls\u001b[49m\u001b[38;5;241;43m=\u001b[39;49m\u001b[43mstream_cls\u001b[49m\u001b[43m,\u001b[49m\n\u001b[1;32m    858\u001b[0m \u001b[43m        \u001b[49m\u001b[43mremaining_retries\u001b[49m\u001b[38;5;241;43m=\u001b[39;49m\u001b[43mremaining_retries\u001b[49m\u001b[43m,\u001b[49m\n\u001b[1;32m    859\u001b[0m \u001b[43m    \u001b[49m\u001b[43m)\u001b[49m\n",
      "File \u001b[0;32m~/.pyenv/versions/3.9.16/envs/spcs_code_interpreter/lib/python3.9/site-packages/openai/_base_client.py:930\u001b[0m, in \u001b[0;36mSyncAPIClient._request\u001b[0;34m(self, cast_to, options, remaining_retries, stream, stream_cls)\u001b[0m\n\u001b[1;32m    927\u001b[0m     \u001b[38;5;28;01mif\u001b[39;00m \u001b[38;5;129;01mnot\u001b[39;00m err\u001b[38;5;241m.\u001b[39mresponse\u001b[38;5;241m.\u001b[39mis_closed:\n\u001b[1;32m    928\u001b[0m         err\u001b[38;5;241m.\u001b[39mresponse\u001b[38;5;241m.\u001b[39mread()\n\u001b[0;32m--> 930\u001b[0m     \u001b[38;5;28;01mraise\u001b[39;00m \u001b[38;5;28mself\u001b[39m\u001b[38;5;241m.\u001b[39m_make_status_error_from_response(err\u001b[38;5;241m.\u001b[39mresponse) \u001b[38;5;28;01mfrom\u001b[39;00m \u001b[38;5;28;01mNone\u001b[39;00m\n\u001b[1;32m    932\u001b[0m \u001b[38;5;28;01mreturn\u001b[39;00m \u001b[38;5;28mself\u001b[39m\u001b[38;5;241m.\u001b[39m_process_response(\n\u001b[1;32m    933\u001b[0m     cast_to\u001b[38;5;241m=\u001b[39mcast_to,\n\u001b[1;32m    934\u001b[0m     options\u001b[38;5;241m=\u001b[39moptions,\n\u001b[0;32m   (...)\u001b[0m\n\u001b[1;32m    937\u001b[0m     stream_cls\u001b[38;5;241m=\u001b[39mstream_cls,\n\u001b[1;32m    938\u001b[0m )\n",
      "\u001b[0;31mBadRequestError\u001b[0m: Error code: 400 - {'error': {'message': 'Thread thread_XDTsn0Z4dM3tl1vRJ3xmdcmh already has an active run run_PrVE7dcVZyl7DAtIuYzD2Ewd.', 'type': 'invalid_request_error', 'param': None, 'code': None}}"
     ]
    }
   ],
   "source": [
    "run = client.beta.threads.runs.create(\n",
    "    thread_id=thread.id,\n",
    "    assistant_id=assistant.id\n",
    ")\n",
    "_thread_run_map[thread.id] = {\"run\": run.id, \"completed_at\": None}"
   ]
  },
  {
   "cell_type": "code",
   "execution_count": 125,
   "id": "a18fd6f2-9be6-4b5c-a432-2365700ed81c",
   "metadata": {},
   "outputs": [
    {
     "data": {
      "text/plain": [
       "'requires_action'"
      ]
     },
     "execution_count": 125,
     "metadata": {},
     "output_type": "execute_result"
    }
   ],
   "source": [
    "run = client.beta.threads.runs.retrieve(thread_id=thread.id, run_id=_thread_run_map[thread.id][\"run\"])\n",
    "run.status"
   ]
  },
  {
   "cell_type": "code",
   "execution_count": 127,
   "id": "b54c7488-1250-4946-a872-ca45baf49088",
   "metadata": {},
   "outputs": [
    {
     "data": {
      "text/plain": [
       "[('getCurrentWeather',\n",
       "  '{\"location\":\"San Francisco, CA\"}',\n",
       "  'call_cP9gduPrrIXbpgGFWfWxzyV3')]"
      ]
     },
     "execution_count": 127,
     "metadata": {},
     "output_type": "execute_result"
    }
   ],
   "source": [
    "function_details = _get_function_details(run)\n",
    "function_details"
   ]
  },
  {
   "cell_type": "code",
   "execution_count": null,
   "id": "3467c05c-4463-4319-bd37-4b642ed7c96d",
   "metadata": {},
   "outputs": [],
   "source": [
    "spcs_code_interpreter"
   ]
  }
 ],
 "metadata": {
  "kernelspec": {
   "display_name": "Python 3 (ipykernel)",
   "language": "python",
   "name": "python3"
  },
  "language_info": {
   "codemirror_mode": {
    "name": "ipython",
    "version": 3
   },
   "file_extension": ".py",
   "mimetype": "text/x-python",
   "name": "python",
   "nbconvert_exporter": "python",
   "pygments_lexer": "ipython3",
   "version": "3.9.16"
  }
 },
 "nbformat": 4,
 "nbformat_minor": 5
}
